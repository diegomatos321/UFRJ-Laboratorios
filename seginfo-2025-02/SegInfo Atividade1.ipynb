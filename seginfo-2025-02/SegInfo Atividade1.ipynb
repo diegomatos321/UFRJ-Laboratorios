{
  "cells": [
    {
      "cell_type": "markdown",
      "metadata": {
        "id": "0F04S35ssjCQ"
      },
      "source": [
        "## Questão 1"
      ]
    },
    {
      "cell_type": "code",
      "execution_count": null,
      "metadata": {
        "colab": {
          "base_uri": "https://localhost:8080/"
        },
        "id": "IWK6c-2SIPI-",
        "outputId": "0f4520eb-ed42-45ad-aaaf-290ff3545483"
      },
      "outputs": [],
      "source": [
        "k = 5\n",
        "alfabeto = 'a b c d e f g h i j k l m n o p q r s t u v w x y z'.split(' ')\n",
        "\n",
        "ciphertext = 'Ufwfgjsx athj ijxhtgwnz f kwfxj'.lower()\n",
        "result = ''\n",
        "for char in ciphertext:\n",
        "  if char == ' ':\n",
        "    result += char\n",
        "    continue\n",
        "\n",
        "  d = (alfabeto.index(char) - k) % len(alfabeto)\n",
        "  result += alfabeto[d]\n",
        "\n",
        "print(result)"
      ]
    },
    {
      "cell_type": "markdown",
      "metadata": {
        "id": "BcSQ4nj6sV7e"
      },
      "source": [
        "Palavra decifrada: Parabens voce descobriu a frase"
      ]
    },
    {
      "cell_type": "markdown",
      "metadata": {
        "id": "8PAWKqLxs_wt"
      },
      "source": [
        "a)  Sim, pois como o espaço de chaves é pequeno deixa cifra de césar vulnerável a ataques de força bruta. Basta testar para as 25 chaves possíveis (k = 1, 2, 3, ..., 25)\n",
        "\n",
        "b)  Pois sabendo qual o idioma você consegue realizar a criptoanalise do alfabeto"
      ]
    },
    {
      "cell_type": "markdown",
      "metadata": {
        "id": "sjNE2QHauC7C"
      },
      "source": [
        "## Questão 2)"
      ]
    },
    {
      "cell_type": "code",
      "execution_count": null,
      "metadata": {
        "id": "nBokuuZUs9lk"
      },
      "outputs": [],
      "source": [
        "alfabeto = \"A B C D E F G H I J K L M N O P Q R S T U V W X Y Z\"\n",
        "chave = \"Q W E R T Y U I O P A S D F G H J K L Z X C V B N M\"\n",
        "\n",
        "lista_alfabeto = alfabeto.split(\" \")\n",
        "lista_chave = chave.split(\" \")"
      ]
    },
    {
      "cell_type": "code",
      "execution_count": null,
      "metadata": {
        "id": "D8VuejHFu0KY"
      },
      "outputs": [],
      "source": [
        "plaintext = \"Chegamos na Sexta Feira\".upper()\n",
        "result = \"\"\n",
        "for char in plaintext:\n",
        "  if char == \" \":\n",
        "    result += \" \"\n",
        "    continue\n",
        "\n",
        "  index = lista_alfabeto.index(char)\n",
        "  result += lista_chave[index]"
      ]
    },
    {
      "cell_type": "code",
      "execution_count": null,
      "metadata": {
        "colab": {
          "base_uri": "https://localhost:8080/",
          "height": 35
        },
        "id": "lRkU4dc2vKed",
        "outputId": "9ed1ad4a-fcb6-4949-a54c-c0fe5ba51566"
      },
      "outputs": [],
      "source": [
        "result"
      ]
    },
    {
      "cell_type": "markdown",
      "metadata": {
        "id": "1iTsvPJLv0HM"
      },
      "source": [
        "a) A realização da permutação completa do alfabeto para construção da chave, deixando muito mais seguro que a cifra de César contra ataques por força bruta.\n",
        "\n",
        "b) Frequências de letras do alfabeto original permanecem no texto cifrado, o que facilita ataques de análise de frequencia."
      ]
    },
    {
      "cell_type": "markdown",
      "metadata": {},
      "source": [
        "## Questão 3"
      ]
    },
    {
      "cell_type": "code",
      "execution_count": null,
      "metadata": {},
      "outputs": [],
      "source": [
        "alfabeto = 'a b c d e f g h i j k l m n o p q r s t u v w x y z'.split(' ')\n",
        "frase = 'the snow lay thick on the steps and the snowflakes driven by the wind looked black in the headlights of the cars'.replace(' ', '')\n",
        "vistos = set()\n",
        "chave = []\n",
        "for char in frase:\n",
        "    if char not in vistos:\n",
        "        vistos.add(char)\n",
        "        chave.append(char)\n",
        "\n",
        "for char in alfabeto:\n",
        "    if char not in vistos:\n",
        "        chave.append(char)\n",
        "\n",
        "print(chave)\n",
        "\n",
        "encrypted = 'SIDKHKDM AF HCRKIABIE SHIMC KD LFEAILA'.lower()\n",
        "result = ''\n",
        "for char in encrypted:\n",
        "    if char == ' ':\n",
        "        result += ' '\n",
        "        continue\n",
        "    \n",
        "    result += alfabeto[chave.index(char)]\n",
        "\n",
        "print(result)"
      ]
    },
    {
      "cell_type": "markdown",
      "metadata": {},
      "source": [
        "## Questão 4"
      ]
    },
    {
      "cell_type": "code",
      "execution_count": null,
      "metadata": {},
      "outputs": [],
      "source": [
        "import string\n",
        "\n",
        "def gerar_matriz(chave: str):\n",
        "    \"\"\"\n",
        "    Gera a matriz 5x5 de Playfair a partir de uma chave.\n",
        "    I e J são considerados a mesma letra.\n",
        "    \"\"\"\n",
        "    chave = chave.lower().replace(\"j\", \"i\").replace(' ', '')\n",
        "    vistos = set()\n",
        "    matriz = []\n",
        "\n",
        "    # Adiciona letras da chave\n",
        "    for c in chave:\n",
        "        if c not in vistos:\n",
        "            vistos.add(c)\n",
        "            matriz.append(c)\n",
        "\n",
        "    # Completa com o resto do alfabeto\n",
        "    for c in string.ascii_lowercase:\n",
        "        if c == 'j':\n",
        "            continue\n",
        "        if c not in vistos:\n",
        "            vistos.add(c)\n",
        "            matriz.append(c)\n",
        "\n",
        "    # Retorna em forma de 5x5\n",
        "    result = []\n",
        "    for i in range(0, 25, 5):\n",
        "        result.append(matriz[i:i+5])\n",
        "    return result\n",
        "\n",
        "\n",
        "def localizar(matriz, letra):\n",
        "    \"\"\"Retorna (linha, coluna) da letra na matriz.\"\"\"\n",
        "    for i, linha in enumerate(matriz):\n",
        "        if letra in linha:\n",
        "            return i, linha.index(letra)\n",
        "\n",
        "\n",
        "def preparar_texto(texto: str):\n",
        "    \"\"\"\n",
        "    Prepara o texto para Playfair:\n",
        "    - remove não-letras\n",
        "    - transforma j -> i\n",
        "    - divide em pares, adicionando X se necessário\n",
        "    \"\"\"\n",
        "    texto = texto.lower().replace(\"j\", \"i\").replace(' ', '')\n",
        "\n",
        "    pares = []\n",
        "    i = 0\n",
        "    while i < len(texto):\n",
        "        a = texto[i]\n",
        "\n",
        "        b = ''\n",
        "        if i+1 < len(texto):\n",
        "            b = texto[i+1]\n",
        "        if a == b:\n",
        "            pares.append(a + 'x')\n",
        "            i += 1\n",
        "        else:\n",
        "            if b:\n",
        "                pares.append(a+b)\n",
        "                i += 2\n",
        "            else:\n",
        "                pares.append(a+'x')\n",
        "                i += 1\n",
        "    return pares\n",
        "\n",
        "\n",
        "def cifrar_playfair(texto: str, chave: str, decifrar=False):\n",
        "    matriz = gerar_matriz(chave)\n",
        "    pares = preparar_texto(texto)\n",
        "\n",
        "    resultado = []\n",
        "    for par in pares:\n",
        "        a, b = par[0], par[1]\n",
        "        linha_a, col_a = localizar(matriz, a)\n",
        "        linha_b, col_b = localizar(matriz, b)\n",
        "\n",
        "        if linha_a == linha_b:  # mesma linha\n",
        "            if decifrar:\n",
        "                resultado.append(matriz[linha_a][(col_a - 1) % 5])\n",
        "                resultado.append(matriz[linha_b][(col_b - 1) % 5])\n",
        "            else:\n",
        "                resultado.append(matriz[linha_a][(col_a + 1) % 5])\n",
        "                resultado.append(matriz[linha_b][(col_b + 1) % 5])\n",
        "        elif col_a == col_b:  # mesma coluna\n",
        "            if decifrar:\n",
        "                resultado.append(matriz[(linha_a - 1) % 5][col_a])\n",
        "                resultado.append(matriz[(linha_b - 1) % 5][col_b])\n",
        "            else:\n",
        "                resultado.append(matriz[(linha_a + 1) % 5][col_a])\n",
        "                resultado.append(matriz[(linha_b + 1) % 5][col_b])\n",
        "        else:  # retângulo\n",
        "            resultado.append(matriz[linha_a][col_b])\n",
        "            resultado.append(matriz[linha_b][col_a])\n",
        "\n",
        "    return ''.join(resultado)\n",
        "\n",
        "chave = \"PROBLEMS\"\n",
        "texto = \"SHE WENT TO THE STORE\"\n",
        "\n",
        "criptografado = cifrar_playfair(texto, chave)\n",
        "decifrado = cifrar_playfair(criptografado, chave, decifrar=True)\n",
        "\n",
        "print(\"Chave:\", chave)\n",
        "print(\"Texto original :\", texto)\n",
        "print(\"Criptografado  :\", criptografado)\n",
        "print(\"Decifrado      :\", decifrado)\n"
      ]
    },
    {
      "cell_type": "markdown",
      "metadata": {},
      "source": [
        "a) Como é uma cifra de múltiplas letras baseada em uma matriz 5x5, é muita segura contra ataques de força bruta. Além de que torna-se muito difícil a análise de frequencia pois os padrões de digramas são\n",
        "menos evidentes.\n",
        "\n",
        "b) Sim, ainda deixa rastros do texto original fazendo com o que algumas centenas de letras de texto cifrado geralmente são suficientes para quebrá-la."
      ]
    },
    {
      "cell_type": "markdown",
      "metadata": {
        "id": "zREfKfFHkJuL"
      },
      "source": [
        "## Questão 6"
      ]
    },
    {
      "cell_type": "code",
      "execution_count": null,
      "metadata": {
        "id": "ioKNFwvbvLaX"
      },
      "outputs": [],
      "source": [
        "def converte_cifra(cifra):\n",
        "    alfabeto = 'ABCDEFGHIJKLMNOPQRSTUVWXYZ'\n",
        "    mapa = {}\n",
        "    proxima_letra = 0\n",
        "    resultado = ''\n",
        "\n",
        "    for char in cifra:\n",
        "        if char not in mapa:\n",
        "            if proxima_letra < len(alfabeto):\n",
        "                mapa[char] = alfabeto[proxima_letra]\n",
        "                proxima_letra += 1\n",
        "            else:\n",
        "              return \"ERRO: A cifra possui mais de 26 símbolos e a criptoanálise deve ser feita de outra forma.\"\n",
        "        resultado += mapa[char]\n",
        "\n",
        "    return resultado, mapa"
      ]
    },
    {
      "cell_type": "code",
      "execution_count": null,
      "metadata": {
        "id": "P2SN9V6wk5wX"
      },
      "outputs": [],
      "source": [
        "cifra = '53++-305))6*;4826)4+.)4+);806*;48-8&60))85;;]8*;:+*8-83(88)5*-;46(;88*96*?;8)*+(;485);5*-2:*+(;4956*2(5*%4)8&8*;4069285);)6-8)4++;1(+9;48081;8:8+1;48-85;4)485-528806*81(+9;48;(88;4(+?34;48)4+;161;:188;+?'"
      ]
    },
    {
      "cell_type": "code",
      "execution_count": null,
      "metadata": {
        "colab": {
          "base_uri": "https://localhost:8080/",
          "height": 35
        },
        "id": "8GUK6Z1Bl6Ix",
        "outputId": "f2b3a23e-9934-4d8d-8268-316cdf27dde1"
      },
      "outputs": [],
      "source": [
        "cifra_alf, map = converte_cifra(cifra)\n",
        "cifra_alf"
      ]
    },
    {
      "cell_type": "code",
      "execution_count": null,
      "metadata": {
        "colab": {
          "base_uri": "https://localhost:8080/"
        },
        "id": "gPYnZo7tl8Yt",
        "outputId": "18c31018-d5aa-4fa6-f521-86ea6beaf452"
      },
      "outputs": [],
      "source": [
        "from collections import Counter\n",
        "import string\n",
        "\n",
        "def index_of_coincidence(text):\n",
        "    N = len(text)\n",
        "    freqs = Counter(text)\n",
        "    ic = sum(f * (f - 1) for f in freqs.values()) / (N * (N - 1)) if N > 1 else 0\n",
        "    return ic\n",
        "\n",
        "def frequency_analysis(text, n=1):\n",
        "    ngrams = [text[i:i+n] for i in range(len(text) - n + 1)]\n",
        "    return Counter(ngrams).most_common()\n",
        "\n",
        "ic = index_of_coincidence(cifra_alf)\n",
        "letter_freq = frequency_analysis(cifra_alf, 1)\n",
        "bigram_freq = frequency_analysis(cifra_alf, 2)\n",
        "trigram_freq = frequency_analysis(cifra_alf, 3)\n",
        "\n",
        "print(f\"Índice de Coincidência: {ic:.4f}\")\n",
        "print(\"\\nTop 10 Letras:\")\n",
        "total_letters = len(cifra_alf)\n",
        "for l, f in letter_freq[:10]:\n",
        "    perc = (f / total_letters) * 100\n",
        "    print(f\"{l}: {f} ({perc:.2f}%)\")\n",
        "\n",
        "\n",
        "print(\"\\nTop 10 Bigramas:\")\n",
        "for b, f in bigram_freq[:15]:\n",
        "    print(f\"{b}: {f}\")\n",
        "\n",
        "print(\"\\nTop 10 Trigramas:\")\n",
        "for t, f in trigram_freq[:15]:\n",
        "    print(f\"{t}: {f}\")"
      ]
    },
    {
      "cell_type": "markdown",
      "metadata": {
        "id": "j3IcJ7LhrGcB"
      },
      "source": [
        "Dado essas informações, muito provavelmente K=E, dada a distribuição das frequências das letras do alfabeto no inglês. Suponha então que IJK seja THE, portanto, I=T, J=H, K=E.\n",
        "\n",
        "Essa suposição vem da contagem de bigramas IJ é 13 e trigamas IJK é 8, ou seja, das 13 vezes que IJ aparece junto, 8 são IJK, o que faria sentido para IJ=TH. Se K=E, temos muitas ocorrências de THE, e 5 outras ocorrencias permitem que tenhamos THAT ou THIS.\n",
        "\n",
        "Além disso, se adicionarmos espaços entre THE's, podemos visualizar melhor o novo texto.\n",
        "\n"
      ]
    },
    {
      "cell_type": "code",
      "execution_count": null,
      "metadata": {
        "colab": {
          "base_uri": "https://localhost:8080/"
        },
        "id": "Cv4n1wTIsNfl",
        "outputId": "b14998f7-d05e-44eb-e004-804ab30f0ab6"
      },
      "outputs": [],
      "source": [
        "text = \"ABCCDBEAFFGHIJKLGFJCMFJCFIKEGHIJKDKNGEFFKAIIOKHIPCHKDKBQKKFAHDIJGQIKKHRGHSIKFHCQIJKAFIAHDLPHCQIJRAGHLQAHTJFKNKHIJEGRLKAFIFGDKFJCCIUQCRIJKEKUIKPKCUIJKDKAIJFJKADALKKEGHKUQCRIJKIQKKIJQCSBJIJKFJCIUGUIPUKKICS\"\n",
        "\n",
        "translation_table = str.maketrans({'I': 'T', 'J': 'H', 'K': 'E'})\n",
        "translated_text = text.translate(translation_table)\n",
        "\n",
        "RED = \"\\033[91m\"\n",
        "END = \"\\033[0m\"\n",
        "\n",
        "highlighted = \"\"\n",
        "for orig_c, trans_c in zip(text, translated_text):\n",
        "    if orig_c != trans_c:\n",
        "        highlighted += f\"{RED}{trans_c}{END}\"\n",
        "    else:\n",
        "        highlighted += trans_c\n",
        "\n",
        "import re\n",
        "\n",
        "def replace_the(match):\n",
        "    return f\"{RED} THE {END}\"\n",
        "import re\n",
        "\n",
        "translated_text_with_spaces = re.sub(r\"THE\", \" THE \", translated_text)\n",
        "\n",
        "\n",
        "def color_text(original, translated_with_spaces):\n",
        "    result = \"\"\n",
        "    i_orig = 0\n",
        "    i_trans = 0\n",
        "    while i_trans < len(translated_with_spaces):\n",
        "        if translated_with_spaces[i_trans:i_trans+5] == \" THE \":\n",
        "            result += f\"{RED} THE {END}\"\n",
        "            i_trans += 5\n",
        "            i_orig += 3\n",
        "        else:\n",
        "            if i_orig < len(original):\n",
        "                orig_c = original[i_orig]\n",
        "                trans_c = translated_with_spaces[i_trans]\n",
        "                if orig_c in ['I', 'J', 'K']:\n",
        "                    result += f\"{RED}{trans_c}{END}\"\n",
        "                else:\n",
        "                    result += trans_c\n",
        "                i_orig += 1\n",
        "                i_trans += 1\n",
        "            else:\n",
        "                result += translated_with_spaces[i_trans]\n",
        "                i_trans += 1\n",
        "    return result\n",
        "\n",
        "final_result = color_text(text, translated_text_with_spaces)\n",
        "\n",
        "print(final_result)\n"
      ]
    },
    {
      "cell_type": "markdown",
      "metadata": {
        "id": "scPNqEFatL1M"
      },
      "source": [
        "Por coincidência do novo mapeamento adotado, conseguimos observar que temos um trecho: **THE** D**E**A**TH**F**HE**AD. Nesse cenário, como vemos palavras conhecidas no inglês sem substituir outras letras a não ser IJK, mapearemos D=D, A=A.\n",
        "\n",
        "Nesse trecho, a frase firmada se torna THE DEATH F HEAD. Mas aqui tem um substantivo em inglês seguido de uma letra isolada e outra palavra, o que não faz muito sentido. Uma maneira de resolver isso é pensar que o F na verdade é um S, já que death's head faz mais sentido."
      ]
    },
    {
      "cell_type": "code",
      "execution_count": null,
      "metadata": {
        "colab": {
          "base_uri": "https://localhost:8080/"
        },
        "id": "NLnfUx73sO_0",
        "outputId": "cf5c5ffa-fdd4-4122-8b48-14056527fb0e"
      },
      "outputs": [],
      "source": [
        "text = \"ABCCDBEAFFGHIJKLGFJCMFJCFIKEGHIJKDKNGEFFKAIIOKHIPCHKDKBQKKFAHDIJGQIKKHRGHSIKFHCQIJKAFIAHDLPHCQIJRAGHLQAHTJFKNKHIJEGRLKAFIFGDKFJCCIUQCRIJKEKUIKPKCUIJKDKAIJFJKADALKKEGHKUQCRIJKIQKKIJQCSBJIJKFJCIUGUIPUKKICS\"\n",
        "\n",
        "translation_table = str.maketrans({'I': 'T', 'J': 'H', 'K': 'E', 'F': 'S', 'A': 'A', 'D': 'D'})\n",
        "\n",
        "translated_text = text.translate(translation_table)\n",
        "\n",
        "RED = \"\\033[91m\"\n",
        "END = \"\\033[0m\"\n",
        "\n",
        "import re\n",
        "\n",
        "translated_text_with_spaces = re.sub(r\"THE\", \"THE\", translated_text)\n",
        "\n",
        "def color_text_extended(original, translated_with_spaces):\n",
        "    result = \"\"\n",
        "    i_orig = 0\n",
        "    i_trans = 0\n",
        "    while i_trans < len(translated_with_spaces):\n",
        "        if translated_with_spaces[i_trans:i_trans+5] == \" THE \":\n",
        "            result += f\"{RED} THE {END}\"\n",
        "            i_trans += 5\n",
        "            i_orig += 3\n",
        "        else:\n",
        "            if i_orig < len(original):\n",
        "                orig_c = original[i_orig]\n",
        "                trans_c = translated_with_spaces[i_trans]\n",
        "\n",
        "                if orig_c in ['I', 'J', 'K', 'F']:\n",
        "                    result += f\"{RED}{trans_c}{END}\"\n",
        "                elif orig_c in ['A', 'D']:\n",
        "                    result += f\"{RED}{trans_c}{END}\"\n",
        "                else:\n",
        "                    result += trans_c\n",
        "\n",
        "                i_orig += 1\n",
        "                i_trans += 1\n",
        "            else:\n",
        "                result += translated_with_spaces[i_trans]\n",
        "                i_trans += 1\n",
        "    return result\n",
        "\n",
        "final_result = color_text_extended(text, translated_text_with_spaces)\n",
        "\n",
        "print(final_result)\n"
      ]
    },
    {
      "cell_type": "code",
      "execution_count": null,
      "metadata": {
        "id": "R9EdPC4P2Pxj"
      },
      "outputs": [],
      "source": []
    },
    {
      "cell_type": "markdown",
      "metadata": {
        "id": "BL0V0Zo9wCu2"
      },
      "source": [
        "Perceba que o texto começa com ABCC e temos até o momento o seguinte mapeamento:\n",
        "\n",
        "A=A, D=D, F=S, I=T, J=H, K=E.\n",
        "\n",
        "Observe que FJ são duas letras que frequentemente aparecem associadas no texto e já descobrimos que se traduz para SH. Assim, observe que no texto temos **EASTS**G**DESH**CC**T** e no começo tomamos por hipótese que A é um artigo que inicia a frase, portanto, **A** BCC**D**BE. Nesse contexto, vimos que a palavra BCCD deve ser uma consoante seguida de duas vogais iguais, já que temos um D logo após.\n",
        "\n",
        "A vogal que se encaixa em ambas as situações é a letra O, porque SHCCT = SHOOT e A BCCDBE = A GOOD BE. Assim, B=G também.\n",
        "\n",
        "Em seguida, observamos que temos A GOOD GEASS, o que nos indica que E pode ser L, formando a palavra GLASS.\n"
      ]
    },
    {
      "cell_type": "code",
      "execution_count": null,
      "metadata": {
        "colab": {
          "base_uri": "https://localhost:8080/"
        },
        "id": "n-a-bUX92QhO",
        "outputId": "cf8cf698-2124-459e-ac54-52e08c54e280"
      },
      "outputs": [],
      "source": [
        "text = \"ABCCDBEAFFGHIJKLGFJCMFJCFIKEGHIJKDKNGEFFKAIIOKHIPCHKDKBQKKFAHDIJGQIKKHRGHSIKFHCQIJKAFIAHDLPHCQIJRAGHLQAHTJFKNKHIJEGRLKAFIFGDKFJCCIUQCRIJKEKUIKPKCUIJKDKAIJFJKADALKKEGHKUQCRIJKIQKKIJQCSBJIJKFJCIUGUIPUKKICS\"\n",
        "\n",
        "import re\n",
        "\n",
        "translation_table = str.maketrans({\n",
        "    'I': 'T',\n",
        "    'J': 'H',\n",
        "    'K': 'E',\n",
        "    'F': 'S',\n",
        "    'C': 'O',\n",
        "    'A': 'A',\n",
        "    'D': 'D',\n",
        "    'B': 'G',\n",
        "    'E': 'L'\n",
        "})\n",
        "\n",
        "translated_text = text.translate(translation_table)\n",
        "\n",
        "RED = \"\\033[91m\"\n",
        "END = \"\\033[0m\"\n",
        "\n",
        "translated_text_with_spaces = re.sub(r\"THE\", \"THE\", translated_text)\n",
        "\n",
        "def color_text_extended(original, translated_with_spaces):\n",
        "    result = \"\"\n",
        "    i_orig = 0\n",
        "    i_trans = 0\n",
        "    while i_trans < len(translated_with_spaces):\n",
        "        if translated_with_spaces[i_trans:i_trans+5] == \" THE \":\n",
        "            result += f\"{RED} THE {END}\"\n",
        "            i_trans += 5\n",
        "            i_orig += 3\n",
        "        else:\n",
        "            if i_orig < len(original):\n",
        "                orig_c = original[i_orig]\n",
        "                trans_c = translated_with_spaces[i_trans]\n",
        "\n",
        "                if orig_c in ['I', 'J', 'K', 'F', 'C', 'B', 'E']:\n",
        "                    result += f\"{RED}{trans_c}{END}\"\n",
        "                elif orig_c in ['A', 'D']:\n",
        "                    result += f\"{RED}{trans_c}{END}\"\n",
        "                else:\n",
        "                    result += trans_c\n",
        "\n",
        "                i_orig += 1\n",
        "                i_trans += 1\n",
        "            else:\n",
        "                result += translated_with_spaces[i_trans]\n",
        "                i_trans += 1\n",
        "    return result\n",
        "\n",
        "final_result = color_text_extended(text, translated_text_with_spaces)\n",
        "\n",
        "print(final_result)\n"
      ]
    },
    {
      "cell_type": "markdown",
      "metadata": {
        "id": "CLNC8L6-3Mr5"
      },
      "source": [
        "**THEDE**NG**LSSEAT**\n",
        "\n",
        "Nesse caso, vemos dois S seguidos em SSEAT, o que nos leva a acreditar que a palavra anterior possui 's. Assim teríamos the dengl's seat, que rapidamente concluímos ser the devil's seat.\n",
        "\n",
        "Portanto, NG = VI."
      ]
    },
    {
      "cell_type": "code",
      "execution_count": null,
      "metadata": {
        "colab": {
          "base_uri": "https://localhost:8080/"
        },
        "id": "74Oh5x0o8nfp",
        "outputId": "a80c1d1a-f758-4360-f40f-c0d165d2b3a0"
      },
      "outputs": [],
      "source": [
        "text = \"ABCCDBEAFFGHIJKLGFJCMFJCFIKEGHIJKDKNGEFFKAIIOKHIPCHKDKBQKKFAHDIJGQIKKHRGHSIKFHCQIJKAFIAHDLPHCQIJRAGHLQAHTJFKNKHIJEGRLKAFIFGDKFJCCIUQCRIJKEKUIKPKCUIJKDKAIJFJKADALKKEGHKUQCRIJKIQKKIJQCSBJIJKFJCIUGUIPUKKICS\"\n",
        "\n",
        "import re\n",
        "\n",
        "translation_table = str.maketrans({\n",
        "    'I': 'T',\n",
        "    'J': 'H',\n",
        "    'K': 'E',\n",
        "    'F': 'S',\n",
        "    'C': 'O',\n",
        "    'A': 'A',\n",
        "    'D': 'D',\n",
        "    'B': 'G',\n",
        "    'E': 'L',\n",
        "    'N': 'V',\n",
        "    'G':'I'\n",
        "})\n",
        "\n",
        "translated_text = text.translate(translation_table)\n",
        "\n",
        "RED = \"\\033[91m\"\n",
        "END = \"\\033[0m\"\n",
        "\n",
        "translated_text_with_spaces = re.sub(r\"THE\", \"THE\", translated_text)\n",
        "\n",
        "def color_text_extended(original, translated_with_spaces):\n",
        "    result = \"\"\n",
        "    i_orig = 0\n",
        "    i_trans = 0\n",
        "    while i_trans < len(translated_with_spaces):\n",
        "        if translated_with_spaces[i_trans:i_trans+5] == \" THE \":\n",
        "            result += f\"{RED} THE {END}\"\n",
        "            i_trans += 5\n",
        "            i_orig += 3\n",
        "        else:\n",
        "            if i_orig < len(original):\n",
        "                orig_c = original[i_orig]\n",
        "                trans_c = translated_with_spaces[i_trans]\n",
        "\n",
        "                if orig_c in ['I', 'J', 'K', 'F', 'C', 'B', 'E', 'N', 'G']:\n",
        "                    result += f\"{RED}{trans_c}{END}\"\n",
        "                elif orig_c in ['A', 'D']:\n",
        "                    result += f\"{RED}{trans_c}{END}\"\n",
        "                else:\n",
        "                    result += trans_c\n",
        "\n",
        "                i_orig += 1\n",
        "                i_trans += 1\n",
        "            else:\n",
        "                result += translated_with_spaces[i_trans]\n",
        "                i_trans += 1\n",
        "    return result\n",
        "\n",
        "final_result = color_text_extended(text, translated_text_with_spaces)\n",
        "\n",
        "print(final_result)\n"
      ]
    },
    {
      "cell_type": "markdown",
      "metadata": {
        "id": "m0nLNCkB8277"
      },
      "source": [
        "Após essa substituição, vemos o trecho EASTSIDESHOOT, que nos indica que estamos no caminho certo.\n",
        "\n",
        "Além disso, vemos que no início da frase temos A good glass ih the, que é facil de ver que H=N, para formar IN."
      ]
    },
    {
      "cell_type": "code",
      "execution_count": null,
      "metadata": {
        "colab": {
          "base_uri": "https://localhost:8080/"
        },
        "id": "AjDcqhVi9MU3",
        "outputId": "ebbf92c3-1590-43aa-dc72-b108013d02b0"
      },
      "outputs": [],
      "source": [
        "text = \"ABCCDBEAFFGHIJKLGFJCMFJCFIKEGHIJKDKNGEFFKAIIOKHIPCHKDKBQKKFAHDIJGQIKKHRGHSIKFHCQIJKAFIAHDLPHCQIJRAGHLQAHTJFKNKHIJEGRLKAFIFGDKFJCCIUQCRIJKEKUIKPKCUIJKDKAIJFJKADALKKEGHKUQCRIJKIQKKIJQCSBJIJKFJCIUGUIPUKKICS\"\n",
        "\n",
        "import re\n",
        "\n",
        "translation_table = str.maketrans({\n",
        "    'I': 'T',\n",
        "    'J': 'H',\n",
        "    'K': 'E',\n",
        "    'F': 'S',\n",
        "    'C': 'O',\n",
        "    'A': 'A',\n",
        "    'D': 'D',\n",
        "    'B': 'G',\n",
        "    'E': 'L',\n",
        "    'N': 'V',\n",
        "    'G':'I',\n",
        "    'H': 'N'\n",
        "})\n",
        "\n",
        "translated_text = text.translate(translation_table)\n",
        "\n",
        "RED = \"\\033[91m\"\n",
        "END = \"\\033[0m\"\n",
        "\n",
        "translated_text_with_spaces = re.sub(r\"THE\", \"THE\", translated_text)\n",
        "\n",
        "def color_text_extended(original, translated_with_spaces):\n",
        "    result = \"\"\n",
        "    i_orig = 0\n",
        "    i_trans = 0\n",
        "    while i_trans < len(translated_with_spaces):\n",
        "        if translated_with_spaces[i_trans:i_trans+5] == \" THE \":\n",
        "            result += f\"{RED} THE {END}\"\n",
        "            i_trans += 5\n",
        "            i_orig += 3\n",
        "        else:\n",
        "            if i_orig < len(original):\n",
        "                orig_c = original[i_orig]\n",
        "                trans_c = translated_with_spaces[i_trans]\n",
        "\n",
        "                if orig_c in ['I', 'J', 'K', 'F', 'C', 'B', 'E', 'N', 'G', 'H']:\n",
        "                    result += f\"{RED}{trans_c}{END}\"\n",
        "                elif orig_c in ['A', 'D']:\n",
        "                    result += f\"{RED}{trans_c}{END}\"\n",
        "                else:\n",
        "                    result += trans_c\n",
        "\n",
        "                i_orig += 1\n",
        "                i_trans += 1\n",
        "            else:\n",
        "                result += translated_with_spaces[i_trans]\n",
        "                i_trans += 1\n",
        "    return result\n",
        "\n",
        "final_result = color_text_extended(text, translated_text_with_spaces)\n",
        "\n",
        "print(final_result)\n"
      ]
    },
    {
      "cell_type": "markdown",
      "metadata": {
        "id": "epgo_zoo6cGg"
      },
      "source": [
        "Reconstruindo o que obtemos até o momento para visualizar melhor, observamos que tem-se THIQTEEN, que no contexto de Devil's faz sentido ser THIRTEEN, que é confirmado no trecho THETQEETHQOSGH, porque se substituirmos R=Q, temos THE TREE THROSGH, que nos leva a crer que S=U.\n",
        "\n",
        "A GOOD GLASS IN THE LISHOMS HOSTEL IN THE DEVILS SEAT TOENTPONEDEGQEE SAND THIQTEEN RINSTESNOQTHEASTADLPNOQTH RAIN LQANTH SEVEN THLIRL EASTSIDE SHOOT UQOR THE LEUTEPEOU THE DEATHS HEAD ALEELINEUQOR THETQEETHQOSGH THESHQOSGHTHESHOTUIUTPUEETOS\n"
      ]
    },
    {
      "cell_type": "code",
      "execution_count": null,
      "metadata": {
        "colab": {
          "base_uri": "https://localhost:8080/"
        },
        "id": "8mxBeT1Q-lUn",
        "outputId": "d9f406f9-4f81-4704-fe3d-60eb3a78869a"
      },
      "outputs": [],
      "source": [
        "text = \"ABCCDBEAFFGHIJKLGFJCMFJCFIKEGHIJKDKNGEFFKAIIOKHIPCHKDKBQKKFAHDIJGQIKKHRGHSIKFHCQIJKAFIAHDLPHCQIJRAGHLQAHTJFKNKHIJEGRLKAFIFGDKFJCCIUQCRIJKEKUIKPKCUIJKDKAIJFJKADALKKEGHKUQCRIJKIQKKIJQCSBJIJKFJCIUGUIPUKKICS\"\n",
        "\n",
        "import re\n",
        "\n",
        "translation_table = str.maketrans({\n",
        "    'I': 'T',\n",
        "    'J': 'H',\n",
        "    'K': 'E',\n",
        "    'F': 'S',\n",
        "    'C': 'O',\n",
        "    'A': 'A',\n",
        "    'D': 'D',\n",
        "    'B': 'G',\n",
        "    'E': 'L',\n",
        "    'N': 'V',\n",
        "    'G':'I',\n",
        "    'H': 'N',\n",
        "    'S': 'U',\n",
        "    'Q': 'R'\n",
        "})\n",
        "\n",
        "translated_text = text.translate(translation_table)\n",
        "\n",
        "RED = \"\\033[91m\"\n",
        "END = \"\\033[0m\"\n",
        "\n",
        "translated_text_with_spaces = re.sub(r\"THE\", \"THE\", translated_text)\n",
        "\n",
        "def color_text_extended(original, translated_with_spaces):\n",
        "    result = \"\"\n",
        "    i_orig = 0\n",
        "    i_trans = 0\n",
        "    while i_trans < len(translated_with_spaces):\n",
        "        if translated_with_spaces[i_trans:i_trans+5] == \" THE \":\n",
        "            result += f\"{RED} THE {END}\"\n",
        "            i_trans += 5\n",
        "            i_orig += 3\n",
        "        else:\n",
        "            if i_orig < len(original):\n",
        "                orig_c = original[i_orig]\n",
        "                trans_c = translated_with_spaces[i_trans]\n",
        "\n",
        "                if orig_c in ['I', 'J', 'K', 'F', 'C', 'B', 'E', 'N', 'G', 'H', 'Q', 'S']:\n",
        "                    result += f\"{RED}{trans_c}{END}\"\n",
        "                elif orig_c in ['A', 'D']:\n",
        "                    result += f\"{RED}{trans_c}{END}\"\n",
        "                else:\n",
        "                    result += trans_c\n",
        "\n",
        "                i_orig += 1\n",
        "                i_trans += 1\n",
        "            else:\n",
        "                result += translated_with_spaces[i_trans]\n",
        "                i_trans += 1\n",
        "    return result\n",
        "\n",
        "final_result = color_text_extended(text, translated_text_with_spaces)\n",
        "\n",
        "print(final_result)\n"
      ]
    },
    {
      "cell_type": "markdown",
      "metadata": {
        "id": "sH7G4C3x-5xB"
      },
      "source": [
        "THIRTEENRINUTESNORTHEAST nesse trecho vemos que R=M para montar\n",
        "THIRTEEN MINUTES NORTHEAST"
      ]
    },
    {
      "cell_type": "code",
      "execution_count": null,
      "metadata": {
        "colab": {
          "base_uri": "https://localhost:8080/"
        },
        "id": "Kj2UYiKs-of2",
        "outputId": "2c7e253f-3daa-4b66-8d24-112a62a5d5ec"
      },
      "outputs": [],
      "source": [
        "text = \"ABCCDBEAFFGHIJKLGFJCMFJCFIKEGHIJKDKNGEFFKAIIOKHIPCHKDKBQKKFAHDIJGQIKKHRGHSIKFHCQIJKAFIAHDLPHCQIJRAGHLQAHTJFKNKHIJEGRLKAFIFGDKFJCCIUQCRIJKEKUIKPKCUIJKDKAIJFJKADALKKEGHKUQCRIJKIQKKIJQCSBJIJKFJCIUGUIPUKKICS\"\n",
        "\n",
        "import re\n",
        "\n",
        "translation_table = str.maketrans({\n",
        "    'I': 'T',\n",
        "    'J': 'H',\n",
        "    'K': 'E',\n",
        "    'F': 'S',\n",
        "    'C': 'O',\n",
        "    'A': 'A',\n",
        "    'D': 'D',\n",
        "    'B': 'G',\n",
        "    'E': 'L',\n",
        "    'N': 'V',\n",
        "    'G':'I',\n",
        "    'H': 'N',\n",
        "    'S': 'U',\n",
        "    'Q': 'R',\n",
        "    'R': 'M'\n",
        "})\n",
        "\n",
        "translated_text = text.translate(translation_table)\n",
        "\n",
        "RED = \"\\033[91m\"\n",
        "END = \"\\033[0m\"\n",
        "\n",
        "translated_text_with_spaces = re.sub(r\"THE\", \"THE\", translated_text)\n",
        "\n",
        "def color_text_extended(original, translated_with_spaces):\n",
        "    result = \"\"\n",
        "    i_orig = 0\n",
        "    i_trans = 0\n",
        "    while i_trans < len(translated_with_spaces):\n",
        "        if translated_with_spaces[i_trans:i_trans+5] == \" THE \":\n",
        "            result += f\"{RED} THE {END}\"\n",
        "            i_trans += 5\n",
        "            i_orig += 3\n",
        "        else:\n",
        "            if i_orig < len(original):\n",
        "                orig_c = original[i_orig]\n",
        "                trans_c = translated_with_spaces[i_trans]\n",
        "\n",
        "                if orig_c in ['I', 'J', 'K', 'F', 'C', 'B', 'E', 'N', 'G', 'H', 'Q', 'S', 'R']:\n",
        "                    result += f\"{RED}{trans_c}{END}\"\n",
        "                elif orig_c in ['A', 'D']:\n",
        "                    result += f\"{RED}{trans_c}{END}\"\n",
        "                else:\n",
        "                    result += trans_c\n",
        "\n",
        "                i_orig += 1\n",
        "                i_trans += 1\n",
        "            else:\n",
        "                result += translated_with_spaces[i_trans]\n",
        "                i_trans += 1\n",
        "    return result\n",
        "\n",
        "final_result = color_text_extended(text, translated_text_with_spaces)\n",
        "\n",
        "print(final_result)\n"
      ]
    },
    {
      "cell_type": "markdown",
      "metadata": {
        "id": "-p6tj5be_GQg"
      },
      "source": [
        "Vemos também que tem-se o trecho SEAT TOENTPONE DEGREES AND THIRTEEN MINUTES. Quando falamos de degrees espera-se um número o antecedendo e o que se encaixa é quando O=W e P=Y, formando TWENTY ONE DEGREES."
      ]
    },
    {
      "cell_type": "code",
      "execution_count": null,
      "metadata": {
        "colab": {
          "base_uri": "https://localhost:8080/"
        },
        "id": "UFGXxRSs_XfD",
        "outputId": "1e10862e-c5c0-451e-b7c0-44534debd28c"
      },
      "outputs": [],
      "source": [
        "text = \"ABCCDBEAFFGHIJKLGFJCMFJCFIKEGHIJKDKNGEFFKAIIOKHIPCHKDKBQKKFAHDIJGQIKKHRGHSIKFHCQIJKAFIAHDLPHCQIJRAGHLQAHTJFKNKHIJEGRLKAFIFGDKFJCCIUQCRIJKEKUIKPKCUIJKDKAIJFJKADALKKEGHKUQCRIJKIQKKIJQCSBJIJKFJCIUGUIPUKKICS\"\n",
        "\n",
        "import re\n",
        "\n",
        "translation_table = str.maketrans({\n",
        "    'I': 'T',\n",
        "    'J': 'H',\n",
        "    'K': 'E',\n",
        "    'F': 'S',\n",
        "    'C': 'O',\n",
        "    'A': 'A',\n",
        "    'D': 'D',\n",
        "    'B': 'G',\n",
        "    'E': 'L',\n",
        "    'N': 'V',\n",
        "    'G':'I',\n",
        "    'H': 'N',\n",
        "    'S': 'U',\n",
        "    'Q': 'R',\n",
        "    'R': 'M',\n",
        "    'O': 'W',\n",
        "    'P': 'Y'\n",
        "})\n",
        "\n",
        "translated_text = text.translate(translation_table)\n",
        "\n",
        "RED = \"\\033[91m\"\n",
        "END = \"\\033[0m\"\n",
        "\n",
        "translated_text_with_spaces = re.sub(r\"THE\", \"THE\", translated_text)\n",
        "\n",
        "def color_text_extended(original, translated_with_spaces):\n",
        "    result = \"\"\n",
        "    i_orig = 0\n",
        "    i_trans = 0\n",
        "    while i_trans < len(translated_with_spaces):\n",
        "        if translated_with_spaces[i_trans:i_trans+5] == \" THE \":\n",
        "            result += f\"{RED} THE {END}\"\n",
        "            i_trans += 5\n",
        "            i_orig += 3\n",
        "        else:\n",
        "            if i_orig < len(original):\n",
        "                orig_c = original[i_orig]\n",
        "                trans_c = translated_with_spaces[i_trans]\n",
        "\n",
        "                if orig_c in ['I', 'J', 'K', 'F', 'C', 'B', 'E', 'N', 'G', 'H', 'Q', 'S', 'R', 'P', 'O']:\n",
        "                    result += f\"{RED}{trans_c}{END}\"\n",
        "                elif orig_c in ['A', 'D']:\n",
        "                    result += f\"{RED}{trans_c}{END}\"\n",
        "                else:\n",
        "                    result += trans_c\n",
        "\n",
        "                i_orig += 1\n",
        "                i_trans += 1\n",
        "            else:\n",
        "                result += translated_with_spaces[i_trans]\n",
        "                i_trans += 1\n",
        "    return result\n",
        "\n",
        "final_result = color_text_extended(text, translated_text_with_spaces)\n",
        "\n",
        "print(final_result)\n"
      ]
    },
    {
      "cell_type": "markdown",
      "metadata": {
        "id": "XleTpgMjACiS"
      },
      "source": [
        "EAST SIDESHOOT UROM THE LEUT EYE, faz sentido U=F, porque ficaria FROM THE LEFT EYE."
      ]
    },
    {
      "cell_type": "code",
      "execution_count": null,
      "metadata": {
        "colab": {
          "base_uri": "https://localhost:8080/"
        },
        "id": "vfXhabQc_BdI",
        "outputId": "d12b016f-fc6b-46c4-dd3d-fee30d1a7175"
      },
      "outputs": [],
      "source": [
        "text = \"ABCCDBEAFFGHIJKLGFJCMFJCFIKEGHIJKDKNGEFFKAIIOKHIPCHKDKBQKKFAHDIJGQIKKHRGHSIKFHCQIJKAFIAHDLPHCQIJRAGHLQAHTJFKNKHIJEGRLKAFIFGDKFJCCIUQCRIJKEKUIKPKCUIJKDKAIJFJKADALKKEGHKUQCRIJKIQKKIJQCSBJIJKFJCIUGUIPUKKICS\"\n",
        "\n",
        "import re\n",
        "\n",
        "translation_table = str.maketrans({\n",
        "    'I': 'T',\n",
        "    'J': 'H',\n",
        "    'K': 'E',\n",
        "    'F': 'S',\n",
        "    'C': 'O',\n",
        "    'A': 'A',\n",
        "    'D': 'D',\n",
        "    'B': 'G',\n",
        "    'E': 'L',\n",
        "    'N': 'V',\n",
        "    'G':'I',\n",
        "    'H': 'N',\n",
        "    'S': 'U',\n",
        "    'Q': 'R',\n",
        "    'R': 'M',\n",
        "    'O': 'W',\n",
        "    'P': 'Y',\n",
        "    'U': 'F',\n",
        "    'L': 'B',\n",
        "    'M': 'P'\n",
        "})\n",
        "\n",
        "translated_text = text.translate(translation_table)\n",
        "\n",
        "RED = \"\\033[91m\"\n",
        "END = \"\\033[0m\"\n",
        "\n",
        "translated_text_with_spaces = re.sub(r\"THE\", \"THE\", translated_text)\n",
        "\n",
        "def color_text_extended(original, translated_with_spaces):\n",
        "    result = \"\"\n",
        "    i_orig = 0\n",
        "    i_trans = 0\n",
        "    while i_trans < len(translated_with_spaces):\n",
        "        if translated_with_spaces[i_trans:i_trans+5] == \" THE \":\n",
        "            result += f\"{RED} THE {END}\"\n",
        "            i_trans += 5\n",
        "            i_orig += 3\n",
        "        else:\n",
        "            if i_orig < len(original):\n",
        "                orig_c = original[i_orig]\n",
        "                trans_c = translated_with_spaces[i_trans]\n",
        "\n",
        "                if orig_c in ['I', 'J', 'K', 'F', 'C', 'B', 'E', 'N', 'G', 'H', 'Q', 'S', 'R', 'P', 'O', 'U', 'L', 'M']:\n",
        "                    result += f\"{RED}{trans_c}{END}\"\n",
        "                elif orig_c in ['A', 'D']:\n",
        "                    result += f\"{RED}{trans_c}{END}\"\n",
        "                else:\n",
        "                    result += trans_c\n",
        "\n",
        "                i_orig += 1\n",
        "                i_trans += 1\n",
        "            else:\n",
        "                result += translated_with_spaces[i_trans]\n",
        "                i_trans += 1\n",
        "    return result\n",
        "\n",
        "final_result = color_text_extended(text, translated_text_with_spaces)\n",
        "\n",
        "print(final_result)\n"
      ]
    },
    {
      "cell_type": "markdown",
      "metadata": {
        "id": "Cu5bse0wEH4L"
      },
      "source": [
        "A GOOD GLASS IN THE BISHOPS HOSTEL IN THE DEVILS SEAT TWENTY ONE DEGREES AND THIRTEEN MINUTES NORTHEAST AND BY NORTH MAIN BRANTH SEVENTH LIMB EASTSIDE SHOOT FROM THE LEFT EYE OF THE DEATHS HEAD A BEELINE FROM THE TREE THROUGH THE SHOT FIFTY FEET OU"
      ]
    },
    {
      "cell_type": "markdown",
      "metadata": {
        "id": "pjr1A_OSEffO"
      },
      "source": [
        "Só falta T e nosso palpite foi t=c para formar a palavra BRANCH, portanto, achamos o poema do edgar allan poe\n",
        "\n",
        "A GOOD GLASS IN THE BISHOPS HOSTEL IN THE DEVILS SEAT TWENTY ONE DEGREES AND THIRTEEN MINUTES NORTHEAST AND BY NORTH MAIN BRANCH SEVENTH LIMB EASTSIDE SHOOT FROM THE LEFT EYE OF THE DEATHS HEAD A BEELINE FROM THE TREE THROUGH THE SHOT FIFTY FEET OU"
      ]
    },
    {
      "cell_type": "code",
      "execution_count": null,
      "metadata": {
        "id": "Ys8nXO1tEfVE"
      },
      "outputs": [],
      "source": []
    }
  ],
  "metadata": {
    "colab": {
      "provenance": []
    },
    "kernelspec": {
      "display_name": "Python 3",
      "name": "python3"
    },
    "language_info": {
      "codemirror_mode": {
        "name": "ipython",
        "version": 3
      },
      "file_extension": ".py",
      "mimetype": "text/x-python",
      "name": "python",
      "nbconvert_exporter": "python",
      "pygments_lexer": "ipython3",
      "version": "3.11.9"
    }
  },
  "nbformat": 4,
  "nbformat_minor": 0
}
