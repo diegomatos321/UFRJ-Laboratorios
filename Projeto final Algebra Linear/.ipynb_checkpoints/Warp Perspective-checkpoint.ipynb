{
 "cells": [
  {
   "cell_type": "code",
   "execution_count": 2,
   "id": "c7b43a6d",
   "metadata": {},
   "outputs": [],
   "source": [
    "import cv2\n",
    "import numpy as np"
   ]
  },
  {
   "cell_type": "code",
   "execution_count": 3,
   "id": "81eef531",
   "metadata": {},
   "outputs": [],
   "source": [
    "originalImage = cv2.imread(\"imagem-teste.jpg\");\n",
    "sourcePoints = np.zeros((4, 2), np.float32);\n",
    "counter = 0;"
   ]
  },
  {
   "cell_type": "code",
   "execution_count": 4,
   "id": "f8c5efa4",
   "metadata": {},
   "outputs": [],
   "source": [
    "def handleMouseClick(event, x, y, flags, params):\n",
    "    global counter;\n",
    "    if event == cv2.EVENT_LBUTTONDOWN:\n",
    "        sourcePoints[counter] = x, y;\n",
    "        counter = counter +  1;"
   ]
  },
  {
   "cell_type": "code",
   "execution_count": 5,
   "id": "97885d8e",
   "metadata": {},
   "outputs": [],
   "source": [
    "def drawCircles():\n",
    "    for point in sourcePoints:\n",
    "        cv2.circle(originalImage, (int(point[0]), int(point[1])), 3, (0, 255, 0), cv2.FILLED);"
   ]
  },
  {
   "cell_type": "code",
   "execution_count": 6,
   "id": "9e25c975",
   "metadata": {},
   "outputs": [],
   "source": [
    "def drawOriginalImage():\n",
    "    cv2.imshow(\"Imagem Original\", originalImage);\n",
    "    cv2.setMouseCallback(\"Imagem Original\", handleMouseClick);\n",
    "\n",
    "    cv2.waitKey(1);"
   ]
  },
  {
   "cell_type": "code",
   "execution_count": 7,
   "id": "c01bac42",
   "metadata": {},
   "outputs": [],
   "source": [
    "while counter != 4:\n",
    "    drawCircles();\n",
    "    drawOriginalImage();\n",
    "\n",
    "cv2.destroyWindow(\"Imagem Original\");\n",
    "width, height = 250, 350;\n",
    "    \n",
    "destPoints = np.float32([[0,0], [width, 0], [0, height], [width, height]]);\n",
    "matrix = cv2.getPerspectiveTransform(sourcePoints, destPoints);\n",
    "imgOutput = cv2.warpPerspective(originalImage, matrix, (width, height));\n",
    "\n",
    "cv2.imshow(\"Imagem Final\", imgOutput);\n",
    "cv2.waitKey(0);\n",
    "cv2.destroyWindow(\"Imagem Final\");"
   ]
  },
  {
   "cell_type": "code",
   "execution_count": null,
   "id": "007c055f",
   "metadata": {},
   "outputs": [],
   "source": []
  }
 ],
 "metadata": {
  "kernelspec": {
   "display_name": "Python 3 (ipykernel)",
   "language": "python",
   "name": "python3"
  },
  "language_info": {
   "codemirror_mode": {
    "name": "ipython",
    "version": 3
   },
   "file_extension": ".py",
   "mimetype": "text/x-python",
   "name": "python",
   "nbconvert_exporter": "python",
   "pygments_lexer": "ipython3",
   "version": "3.11.1"
  }
 },
 "nbformat": 4,
 "nbformat_minor": 5
}
