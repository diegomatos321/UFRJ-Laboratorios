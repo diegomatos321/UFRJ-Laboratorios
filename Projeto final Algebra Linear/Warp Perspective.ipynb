{
 "cells": [
  {
   "cell_type": "markdown",
   "id": "6de64961",
   "metadata": {},
   "source": [
    "# Projeto final de Algebra Linear 2022.02\n",
    "Aluno: Diego Vasconcelos Schardosim de Matos\n",
    "\n",
    "DRE: 120098723\n",
    "\n",
    "Tema: Retificação de Imagem (Exemplo do slide de numero 6)"
   ]
  },
  {
   "cell_type": "markdown",
   "id": "742840f1",
   "metadata": {},
   "source": [
    "## O que é\n",
    "O propósito do trabalho é conseguirmos transformar uma imagem que está \"torta\" e corrigir suas perspectiva, igual ao exemplo abaixo\n",
    "\n",
    "<img src=\"imagem-teste-2.jpg\" width=\"300\" />\n",
    "<img src=\"perspectiva-livro-corrigida.JPG\" width=\"300\" />"
   ]
  },
  {
   "cell_type": "markdown",
   "id": "7cbbf48c",
   "metadata": {},
   "source": [
    "Para isso precisamos saber os quatro pontos de origem para conseguirmos corrigir sua perspectiva, o programa neste notebook irá pedir os pontos de entrada ao usuário. A ideia é ilustrada na imagem abaixo\n",
    "\n",
    "<img src=\"como-funciona-a-correcao.png\" height=\"300\" />"
   ]
  },
  {
   "cell_type": "markdown",
   "id": "1a0db896",
   "metadata": {},
   "source": [
    "Uma transformação de perspectiva de duas imagens que pertencem ao mesmo plano, como mostrado no esboço acima, é chamado de homografia e é representado por uma matriz 3x3:\n",
    "\n",
    "$$ \n",
    "\\begin{bmatrix}\n",
    "x_{src} \\\\\n",
    "y_{src} \\\\\n",
    "1 \\\\\n",
    "\\end{bmatrix} \n",
    "=\n",
    "\\begin{bmatrix}\n",
    "h_{11} & h_{12} & h_{13} \\\\\n",
    "h_{21} & h_{22} & h_{23} \\\\\n",
    "h_{31} & h_{32} & 1 \\\\\n",
    "\\end{bmatrix} \n",
    "\\begin{bmatrix}\n",
    "x_{dest} \\\\\n",
    "y_{dest} \\\\\n",
    "1 \\\\\n",
    "\\end{bmatrix} \n",
    "=H\n",
    "$$\n",
    "\n",
    "Basta resolver essa equação pelo método de Gauss Jordan. Com a matriz de homografia calculado, agora basta aplicar ela para todos os pontos restantes e encontraremos sua equivalencia na imagem de destino."
   ]
  },
  {
   "cell_type": "markdown",
   "id": "0e688192",
   "metadata": {},
   "source": [
    "## Um exemplo prático\n",
    "\n",
    "O progama abaixo (não tão genérico) lê a imagem chamada 'imagem-teste-2.jpg' que acompanha este notebook e pede ao usuário escolher 4 pontos na imagem que é desejado realizar a correção de perspectiva.\n",
    "\n",
    "**Nota 1:** Os pontos precisam ser escolhidos, obrigatoriamente, na seguinte ordem: Canto superior esquerdo, canto superior direito, canto inferior equerdo e canto inferior direito.\n",
    "**Nota 2:** O programa irá abrir uma janela, caso ela não aparessa automaticamente verifique se ela já não foi aberta\n",
    " \n",
    "Caso o usuário deseje testar com outra imagem, coloque-a na mesma pasta deste notebook e altere o nome do arquivo que o progama deve ler."
   ]
  },
  {
   "cell_type": "code",
   "execution_count": 1,
   "id": "c7b43a6d",
   "metadata": {},
   "outputs": [],
   "source": [
    "import cv2\n",
    "import numpy as np"
   ]
  },
  {
   "cell_type": "code",
   "execution_count": 2,
   "id": "81eef531",
   "metadata": {},
   "outputs": [],
   "source": [
    "imageFileName = \"imagem-teste-2.jpg\";\n",
    "originalImage = cv2.imread(imageFileName);\n",
    "\n",
    "\"Cria um vetor de zeros (2x4)^T\"\n",
    "sourcePoints = np.zeros((4, 2), np.float32);\n",
    "counter = 0;"
   ]
  },
  {
   "cell_type": "code",
   "execution_count": 3,
   "id": "f8c5efa4",
   "metadata": {},
   "outputs": [],
   "source": [
    "\"Método usado posteriormente para tratar o clique do mouse\"\n",
    "def mouseClickHandler(event, x, y, flags, params):\n",
    "    global counter;\n",
    "    if event == cv2.EVENT_LBUTTONDOWN:\n",
    "        sourcePoints[counter] = x, y;\n",
    "        counter = counter +  1;"
   ]
  },
  {
   "cell_type": "code",
   "execution_count": 4,
   "id": "97885d8e",
   "metadata": {},
   "outputs": [],
   "source": [
    "\"Desenha circulos onde o usuário Clicou na imagem original\"\n",
    "def drawCircles():\n",
    "    for point in sourcePoints:\n",
    "        cv2.circle(originalImage, (int(point[0]), int(point[1])), 3, (0, 255, 0), cv2.FILLED);"
   ]
  },
  {
   "cell_type": "code",
   "execution_count": 5,
   "id": "9e25c975",
   "metadata": {},
   "outputs": [],
   "source": [
    "def drawOriginalImage():\n",
    "    cv2.imshow(\"Imagem Original\", originalImage);\n",
    "    cv2.setMouseCallback(\"Imagem Original\", mouseClickHandler);\n",
    "\n",
    "    cv2.waitKey(1);"
   ]
  },
  {
   "cell_type": "code",
   "execution_count": 6,
   "id": "c01bac42",
   "metadata": {},
   "outputs": [],
   "source": [
    "\"Loop responsável por exibir uma janela com a imagem escolhida e aceitar clique do usúario\"\n",
    "while counter != 4:\n",
    "    drawCircles();\n",
    "    drawOriginalImage();\n",
    "\n",
    "cv2.destroyWindow(\"Imagem Original\"); # Destroi janela antiga para evitar problemas\n",
    "width, height = 350, 350; # Caso sua imagem original esteja numa proporção diferente, altere aqui\n",
    "    \n",
    "destPoints = np.float32([[0,0], [width, 0], [0, height], [width, height]]);\n",
    "matrix = cv2.getPerspectiveTransform(sourcePoints, destPoints); # Calcula a matriz de homografia mencionada anteriormente\n",
    "imgOutput = cv2.warpPerspective(originalImage, matrix, (width, height)); # Aplica matriz de transforma na imagem, também é responsável por interpolar a malha da imagem\n",
    "\n",
    "cv2.imshow(\"Imagem Final\", imgOutput);\n",
    "cv2.waitKey(0);"
   ]
  },
  {
   "cell_type": "markdown",
   "id": "889be114",
   "metadata": {},
   "source": [
    "## Referências\n",
    "- [Warp Perspective / Bird View [6] | OpenCV Python Tutorials for Beginners 2020](https://www.youtube.com/watch?v=Tm_7fGolVGE)\n",
    "- [OpenCv Perspective Transformation](https://medium.com/analytics-vidhya/opencv-perspective-transformation-9edffefb2143)\n",
    "- [Warp perspective and Transform OpenCV python](https://thinkinfi.com/warp-perspective-opencv/)\n",
    "- [Homography examples using OpenCV ( Python / C ++ )](https://learnopencv.com/homography-examples-using-opencv-python-c/)\n",
    "- [Homework 2: Image Rectification](https://web.ece.ucsb.edu/~manj/ece181bS04/ECE_181b_HW2/rectification.pdf)"
   ]
  }
 ],
 "metadata": {
  "kernelspec": {
   "display_name": "Python 3 (ipykernel)",
   "language": "python",
   "name": "python3"
  },
  "language_info": {
   "codemirror_mode": {
    "name": "ipython",
    "version": 3
   },
   "file_extension": ".py",
   "mimetype": "text/x-python",
   "name": "python",
   "nbconvert_exporter": "python",
   "pygments_lexer": "ipython3",
   "version": "3.11.1"
  }
 },
 "nbformat": 4,
 "nbformat_minor": 5
}
