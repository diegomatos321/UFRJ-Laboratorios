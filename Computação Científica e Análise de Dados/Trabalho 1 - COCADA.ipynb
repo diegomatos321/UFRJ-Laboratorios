{
 "cells": [
  {
   "cell_type": "markdown",
   "id": "8921c9e0",
   "metadata": {},
   "source": [
    "# Trabalho 1 - Computação Científica e Análise de Dados (COCADA)\n",
    "Professor: João Paixão\n",
    "\n",
    "Aluno: Diego Vasconcelos Schardosim de Matos\n",
    "\n",
    "DRE: 120098723"
   ]
  },
  {
   "cell_type": "code",
   "execution_count": 185,
   "id": "a352c758",
   "metadata": {},
   "outputs": [],
   "source": [
    "using LinearAlgebra"
   ]
  },
  {
   "cell_type": "markdown",
   "id": "da4f0043",
   "metadata": {},
   "source": [
    "## 1) Algoritmo para realizar fatoração LU.\n",
    "\n",
    "A fatoração LU consiste em pegarmos uma matriz quadrada nxn e fatora-la como o produto de uma\n",
    "matriz triangular inferior (L -> Lower) e uma matriz triangular superior (U -> Upper).\n",
    "\n",
    "Usaremos o método visto em aula"
   ]
  },
  {
   "cell_type": "code",
   "execution_count": 186,
   "id": "80e9f8ef",
   "metadata": {},
   "outputs": [
    {
     "data": {
      "text/plain": [
       "my_LU (generic function with 1 method)"
      ]
     },
     "execution_count": 186,
     "metadata": {},
     "output_type": "execute_result"
    }
   ],
   "source": [
    "function my_LU(A)\n",
    "    n, n=size(A)\n",
    "    L=zeros(n,n)\n",
    "    U=zeros(n,n)\n",
    "    \n",
    "    for i=1:n\n",
    "        pivô=A[i,i] # Os pivos são os elementos da diagonal principal\n",
    "        \n",
    "        linha_upper=A[i,:] # A linha inteira do pivo 'vai para' matriz U\n",
    "        coluna_lower=(1/pivô)*A[:,i] # Após multiplicar a coluna do pivo por 1/pivo, essa coluna 'vai para' matriz L\n",
    "        \n",
    "        L[:,i]=coluna_lower\n",
    "        U[i,:]=linha_upper\n",
    "    \n",
    "        # Ao realizar o produto matricial entre a linha e coluna obtida anteriormente, \n",
    "        # temos uma matriz A 'aproximada', logo, realizamos a diferença para encontrar \n",
    "        # o 'resto', e continuamos a conta a partir desse resto\n",
    "        resto = A - coluna_lower*linha_upper' \n",
    "        A = resto\n",
    "    end\n",
    "    return L,U\n",
    "end"
   ]
  },
  {
   "cell_type": "code",
   "execution_count": 187,
   "id": "22ae7141",
   "metadata": {
    "scrolled": true
   },
   "outputs": [
    {
     "data": {
      "text/plain": [
       "true"
      ]
     },
     "execution_count": 187,
     "metadata": {},
     "output_type": "execute_result"
    }
   ],
   "source": [
    "# Teste da LU\n",
    "A=randn(100,100)\n",
    "L,U=my_LU(A)\n",
    "norm(A-L*U)<0.00001"
   ]
  },
  {
   "cell_type": "markdown",
   "id": "a6851b9e",
   "metadata": {},
   "source": [
    "## 2) Algoritmo para realizar decomposição QR pelo método de Gram–Schmidt \n",
    "Consiste em escrever uma matriz quadrada $A_{nxm}$ por uma nova base Q composta de vetorores ortogonais e ortonormais\n",
    "\n",
    "A ideia é, iterativamente, escrevermos $q_1$ como o vetor $a_1$ normalizado e, $r_{11}$ como sendo a norma de $a_1$ \n",
    "('quanto precisa andar em $q_1$ para chegar em $a_1$'), o $q_2$ como sendo a diferença de projeção de $a_2$ em $q_1$,\n",
    "normalizado, $r_{12}$ o tamanho da projeção em $q_1$ ($q_2^T q_1$) e $r_{12}$ a norma de $q_2$, assim por adiante\n",
    "\n",
    "$$ q_1 = \\frac{a_1}{||a_1||} $$\n",
    "\n",
    "Para i de 2 até nº colunas\n",
    "\n",
    "$$ q_i = a_i - \\sum_{l=1}^{i-1} (a_i^T q_l) q_l $$\n",
    "$$ q_i = \\frac{q_i}{||q_i||} $$"
   ]
  },
  {
   "cell_type": "code",
   "execution_count": 188,
   "id": "13f3cdd5",
   "metadata": {},
   "outputs": [
    {
     "data": {
      "text/plain": [
       "my_QR (generic function with 1 method)"
      ]
     },
     "execution_count": 188,
     "metadata": {},
     "output_type": "execute_result"
    }
   ],
   "source": [
    "function my_QR(A)\n",
    "    n, m = size(A)\n",
    "    Q = zeros(n, m)\n",
    "    R = zeros(n, m)\n",
    "    \n",
    "    r_11 = norm(A[:,1])\n",
    "    q_1 = A[:,1] / r_11\n",
    "    \n",
    "    Q[:,1] = q_1\n",
    "    R[1,1] = r_11\n",
    "    \n",
    "    for i=2:m\n",
    "        q_i = A[:,i]\n",
    "        \n",
    "        for l=1:i-1\n",
    "            q_l = Q[:,l] # Vetor q_(i-1)\n",
    "            projecao = A[:,i]' * q_l # Projecao parcial de a_i em q_(i-1) \n",
    "            R[l,i] = projecao # Quanto a_i andou em q_l\n",
    "            projecao = projecao * q_l # Projecao de a_i em q_(i-1) \n",
    "            \n",
    "            q_i = q_i - projecao\n",
    "        end\n",
    "        \n",
    "        R[i,i] = norm(q_i)\n",
    "        Q[:,i] = q_i / norm(q_i)\n",
    "    end\n",
    "    \n",
    "    return Q,R\n",
    "end"
   ]
  },
  {
   "cell_type": "code",
   "execution_count": 189,
   "id": "2a4b607c",
   "metadata": {},
   "outputs": [
    {
     "data": {
      "text/plain": [
       "true"
      ]
     },
     "execution_count": 189,
     "metadata": {},
     "output_type": "execute_result"
    }
   ],
   "source": [
    "# Teste da QR\n",
    "\n",
    "A=randn(4,4)\n",
    "Q,R=my_QR(A)\n",
    "norm(A-Q*R)<0.00001"
   ]
  },
  {
   "cell_type": "markdown",
   "id": "0d2595c1",
   "metadata": {},
   "source": [
    "## Resolvendo um sistema linear por LU\n",
    "\n",
    "Para resolvermos um sistema linear usando decomposição LU precisamos reescrever\n",
    "\n",
    "$$ Ax = b $$\n",
    "$$ A = LU $$\n",
    "$$ (LU)x = b $$\n",
    "\n",
    "E resolver o novo sistema lienar\n",
    "\n",
    "$$\n",
    "\\begin{cases}\n",
    "    Ly = b \\\\\n",
    "    Ux = y\n",
    "\\end{cases}\n",
    "$$\n",
    "\n",
    "sabendo que U é triangular superior, sendo necessário o método de substituição reversa, já L é triangular inferior, sendo o método de substituição direta suficiente."
   ]
  },
  {
   "cell_type": "code",
   "execution_count": 190,
   "id": "b85146bf",
   "metadata": {},
   "outputs": [
    {
     "data": {
      "text/plain": [
       "substituicao_direta (generic function with 1 method)"
      ]
     },
     "execution_count": 190,
     "metadata": {},
     "output_type": "execute_result"
    }
   ],
   "source": [
    "\"\n",
    "    Recebe uma matriz triangular inferior nxn, b é um vetor nx1, e retorna matriz y nx1\n",
    "\"\n",
    "\n",
    "function substituicao_direta(L, b)\n",
    "    n, n = size(L)\n",
    "    y = zeros(n, 1)\n",
    "    \n",
    "    y[1] = b[1] / L[1,1] # Elemento mais acima é direto\n",
    "    \n",
    "    for linha_atual=2:n # A partir da segunda linha\n",
    "        y_i = b[linha_atual] # q_i é igual ao valor que procuramos\n",
    "        \n",
    "        for coluna_atual=1:linha_atual-1\n",
    "            y_i -= y[coluna_atual] * L[linha_atual, coluna_atual] # Diferença dos pesos por q_i sem chegar no peso coluna = linha\n",
    "        end\n",
    "        \n",
    "        y_i = y_i / L[linha_atual, linha_atual] # Na posicao coluna = linha devemos fazer a divisão do peso q_i\n",
    "\n",
    "        y[linha_atual] = y_i\n",
    "    end\n",
    "    \n",
    "    return y\n",
    "end"
   ]
  },
  {
   "cell_type": "code",
   "execution_count": 191,
   "id": "1e9fb2cd",
   "metadata": {},
   "outputs": [
    {
     "data": {
      "text/plain": [
       "substituicao_reversa (generic function with 1 method)"
      ]
     },
     "execution_count": 191,
     "metadata": {},
     "output_type": "execute_result"
    }
   ],
   "source": [
    "\"\n",
    "    Recebe uma matriz triangular superior nxm, y é um vetor mx1, e retorna matriz x mx1\n",
    "\"\n",
    "\n",
    "function substituicao_reversa(U, y)\n",
    "    n, m = size(U)\n",
    "    x = zeros(n, 1)\n",
    "    \n",
    "    x[m] = y[m] / U[m,m] # Último elemento é direto\n",
    "    \n",
    "    for linha_atual=n-1:-1:1 # Iteração reversa de n-1 até 1\n",
    "        x_i = y[linha_atual] # q_i é igual ao valor que procuramos\n",
    "        \n",
    "        for coluna_atual=linha_atual+1:m # Começamos pelo elemento ao lado direito do U_ii\n",
    "            x_i -= x[coluna_atual] * U[linha_atual, coluna_atual]\n",
    "        end\n",
    "        \n",
    "        x_i = x_i / U[linha_atual,linha_atual] # Elemento Uii que foi pulado é divido pelo valor somado anteriormente\n",
    "        x[linha_atual] = x_i\n",
    "    end\n",
    "    \n",
    "    return x\n",
    "end"
   ]
  },
  {
   "cell_type": "code",
   "execution_count": 192,
   "id": "e820090d",
   "metadata": {},
   "outputs": [
    {
     "data": {
      "text/plain": [
       "resolver_sistema_linear_LU (generic function with 1 method)"
      ]
     },
     "execution_count": 192,
     "metadata": {},
     "output_type": "execute_result"
    }
   ],
   "source": [
    "function resolver_sistema_linear_LU(A, b)\n",
    "    L, U = my_LU(A)\n",
    "    \n",
    "    y = substituicao_direta(L, b)\n",
    "    x = substituicao_reversa(U, y)\n",
    "    \n",
    "    return x\n",
    "end"
   ]
  },
  {
   "cell_type": "code",
   "execution_count": 193,
   "id": "2ca44b19",
   "metadata": {},
   "outputs": [
    {
     "data": {
      "text/plain": [
       "3×1 Matrix{Float64}:\n",
       " 1.0\n",
       " 1.0\n",
       " 2.0"
      ]
     },
     "execution_count": 193,
     "metadata": {},
     "output_type": "execute_result"
    }
   ],
   "source": [
    "\"\n",
    "    Mesma matriz do exercicio passado em aula\n",
    "\"\n",
    "A = [\n",
    "    2 1 1\n",
    "    4 3 3\n",
    "    6 7 10\n",
    "]\n",
    "b = [\n",
    "    5\n",
    "    13\n",
    "    33\n",
    "]\n",
    "\n",
    "x = resolver_sistema_linear_LU(A, b)"
   ]
  },
  {
   "cell_type": "code",
   "execution_count": 194,
   "id": "d837ada3",
   "metadata": {},
   "outputs": [
    {
     "data": {
      "text/plain": [
       "0.0"
      ]
     },
     "execution_count": 194,
     "metadata": {},
     "output_type": "execute_result"
    }
   ],
   "source": [
    "# teste\n",
    "norm(b - A*x)"
   ]
  },
  {
   "cell_type": "markdown",
   "id": "b7304a70",
   "metadata": {},
   "source": [
    "## Mínimos quadrados por qr\n",
    "\n",
    "A solução por minimos quadrados é feito substituinod A = QR e resolvendo o novo sistema linear\n",
    "\n",
    "$$ R \\tilde{x} = Q^T b $$\n",
    "$$\n",
    "\\begin{cases}\n",
    "    R \\tilde{x} = y \\\\\n",
    "    y = Q^T b\n",
    "\\end{cases}\n",
    "$$\n",
    "\n",
    "sabendo que R é triangular superior, sendo o método de substituição reversa suficiente a primeira equação"
   ]
  },
  {
   "cell_type": "code",
   "execution_count": 195,
   "id": "f1405513",
   "metadata": {},
   "outputs": [
    {
     "data": {
      "text/plain": [
       "minimos_quadrados_por_qr (generic function with 1 method)"
      ]
     },
     "execution_count": 195,
     "metadata": {},
     "output_type": "execute_result"
    }
   ],
   "source": [
    "function minimos_quadrados_por_qr(A, b)\n",
    "    Q, R = my_QR(A)\n",
    "    \n",
    "    y = Q' * b\n",
    "    x = substituicao_reversa(R, y)\n",
    "    \n",
    "    # erro = norm(b - R*x)\n",
    "    return x\n",
    "end"
   ]
  },
  {
   "cell_type": "code",
   "execution_count": 196,
   "id": "79e62f74",
   "metadata": {},
   "outputs": [
    {
     "data": {
      "text/plain": [
       "3×1 Matrix{Float64}:\n",
       " 1.0\n",
       " 0.3846153846153847\n",
       " 0.0"
      ]
     },
     "execution_count": 196,
     "metadata": {},
     "output_type": "execute_result"
    }
   ],
   "source": [
    "A = [\n",
    "    1 0\n",
    "    0 2\n",
    "    0 3\n",
    "]\n",
    "\n",
    "b = [\n",
    "    1\n",
    "    1\n",
    "    1\n",
    "]\n",
    "\n",
    "x = minimos_quadrados_por_qr(A, b)"
   ]
  }
 ],
 "metadata": {
  "kernelspec": {
   "display_name": "Julia 1.8.5",
   "language": "julia",
   "name": "julia-1.8"
  },
  "language_info": {
   "file_extension": ".jl",
   "mimetype": "application/julia",
   "name": "julia",
   "version": "1.8.5"
  }
 },
 "nbformat": 4,
 "nbformat_minor": 5
}
