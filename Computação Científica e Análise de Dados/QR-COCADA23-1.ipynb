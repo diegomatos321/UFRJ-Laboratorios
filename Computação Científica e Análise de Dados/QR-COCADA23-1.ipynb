{
 "cells": [
  {
   "cell_type": "code",
   "execution_count": 3,
   "metadata": {},
   "outputs": [],
   "source": [
    "using LinearAlgebra"
   ]
  },
  {
   "cell_type": "code",
   "execution_count": 4,
   "metadata": {},
   "outputs": [
    {
     "data": {
      "text/plain": [
       "500×1 Matrix{Float64}:\n",
       "  1.8082060420387749\n",
       " -0.07375951069256581\n",
       " -0.5083288888213378\n",
       "  0.7560683666995749\n",
       "  0.38058955246834514\n",
       " -0.8539978626644211\n",
       "  0.1424989655924861\n",
       "  0.5565731524316099\n",
       "  1.2840006595997453\n",
       " -1.411508608469085\n",
       " -2.0895656670536917\n",
       "  0.1177625708569727\n",
       "  0.41108923718441426\n",
       "  ⋮\n",
       " -0.06330765683427876\n",
       " -0.5683248632702776\n",
       "  1.008153898901281\n",
       " -1.371539819373402\n",
       " -0.8730047606731882\n",
       " -0.09717797630302377\n",
       "  1.5977218403366285\n",
       " -0.7244237574026968\n",
       " -0.032452087388707966\n",
       "  1.363271096816419\n",
       "  0.20693582432018973\n",
       " -0.8516529334661482"
      ]
     },
     "execution_count": 4,
     "metadata": {},
     "output_type": "execute_result"
    }
   ],
   "source": [
    "A=randn(500,500)\n",
    "b=randn(500,1)\n",
    "x=A\\b"
   ]
  },
  {
   "cell_type": "code",
   "execution_count": 5,
   "metadata": {},
   "outputs": [
    {
     "data": {
      "text/plain": [
       "4.205964312324627e-15"
      ]
     },
     "execution_count": 5,
     "metadata": {},
     "output_type": "execute_result"
    }
   ],
   "source": [
    "tamanho_erro=(1/500)*norm(A*x-b)"
   ]
  },
  {
   "cell_type": "code",
   "execution_count": 6,
   "metadata": {
    "scrolled": true
   },
   "outputs": [
    {
     "data": {
      "text/plain": [
       "3×1 Matrix{Float64}:\n",
       " -0.4459028286654574\n",
       "  0.351055401698576\n",
       " -0.9042939387060374"
      ]
     },
     "execution_count": 6,
     "metadata": {},
     "output_type": "execute_result"
    }
   ],
   "source": [
    "A=randn(10,3)\n",
    "b=randn(10,1)\n",
    "x=A\\b"
   ]
  },
  {
   "cell_type": "code",
   "execution_count": 7,
   "metadata": {},
   "outputs": [
    {
     "data": {
      "text/plain": [
       "2.2508572921205676"
      ]
     },
     "execution_count": 7,
     "metadata": {},
     "output_type": "execute_result"
    }
   ],
   "source": [
    "norm(A*x-b)"
   ]
  },
  {
   "cell_type": "code",
   "execution_count": 8,
   "metadata": {},
   "outputs": [
    {
     "data": {
      "text/plain": [
       "3×1 Matrix{Float64}:\n",
       "  1.0981074679915177\n",
       " -1.140408810329833\n",
       "  0.4342103040000612"
      ]
     },
     "execution_count": 8,
     "metadata": {},
     "output_type": "execute_result"
    }
   ],
   "source": [
    "v=randn(3,1)"
   ]
  },
  {
   "cell_type": "code",
   "execution_count": 9,
   "metadata": {},
   "outputs": [
    {
     "data": {
      "text/plain": [
       "1.6416183643089746"
      ]
     },
     "execution_count": 9,
     "metadata": {},
     "output_type": "execute_result"
    }
   ],
   "source": [
    "norm(v)"
   ]
  },
  {
   "cell_type": "code",
   "execution_count": 10,
   "metadata": {},
   "outputs": [
    {
     "data": {
      "text/plain": [
       "1×1 Matrix{Float64}:\n",
       " 1.6416183643089746"
      ]
     },
     "execution_count": 10,
     "metadata": {},
     "output_type": "execute_result"
    }
   ],
   "source": [
    "sqrt(v'*v)"
   ]
  },
  {
   "cell_type": "code",
   "execution_count": 11,
   "metadata": {},
   "outputs": [
    {
     "data": {
      "text/plain": [
       "2×2 Matrix{Int64}:\n",
       " 1   2\n",
       " 2  -1"
      ]
     },
     "execution_count": 11,
     "metadata": {},
     "output_type": "execute_result"
    }
   ],
   "source": [
    "q_1=[1; 2]\n",
    "q_2=[2;-1]\n",
    "q_1'*q_2\n",
    "Q=[q_1 q_2]"
   ]
  },
  {
   "cell_type": "code",
   "execution_count": 12,
   "metadata": {},
   "outputs": [
    {
     "data": {
      "text/plain": [
       "normalizar (generic function with 1 method)"
      ]
     },
     "execution_count": 12,
     "metadata": {},
     "output_type": "execute_result"
    }
   ],
   "source": [
    "function normalizar(v)\n",
    "    return v/norm(v)\n",
    "end"
   ]
  },
  {
   "cell_type": "code",
   "execution_count": 13,
   "metadata": {},
   "outputs": [
    {
     "data": {
      "text/plain": [
       "2×2 Matrix{Float64}:\n",
       " 0.447214   0.894427\n",
       " 0.894427  -0.447214"
      ]
     },
     "execution_count": 13,
     "metadata": {},
     "output_type": "execute_result"
    }
   ],
   "source": [
    "q_1=normalizar(q_1)\n",
    "q_2=normalizar(q_2)\n",
    "Q=[q_1 q_2]"
   ]
  },
  {
   "cell_type": "code",
   "execution_count": 14,
   "metadata": {},
   "outputs": [
    {
     "data": {
      "text/plain": [
       "2×2 Matrix{Float64}:\n",
       " 1.0  0.0\n",
       " 0.0  1.0"
      ]
     },
     "execution_count": 14,
     "metadata": {},
     "output_type": "execute_result"
    }
   ],
   "source": [
    "Q'*Q"
   ]
  },
  {
   "cell_type": "code",
   "execution_count": 15,
   "metadata": {},
   "outputs": [
    {
     "data": {
      "text/plain": [
       "LinearAlgebra.QRCompactWY{Float64, Matrix{Float64}}\n",
       "Q factor:\n",
       "2×2 LinearAlgebra.QRCompactWYQ{Float64, Matrix{Float64}}:\n",
       " -0.823561  -0.567227\n",
       " -0.567227   0.823561\n",
       "R factor:\n",
       "2×2 Matrix{Float64}:\n",
       " 0.893086  -0.21192\n",
       " 0.0       -0.198934"
      ]
     },
     "execution_count": 15,
     "metadata": {},
     "output_type": "execute_result"
    }
   ],
   "source": [
    "A=randn(2,2)\n",
    "Q,R=qr(A)"
   ]
  },
  {
   "cell_type": "code",
   "execution_count": 16,
   "metadata": {},
   "outputs": [
    {
     "data": {
      "text/plain": [
       "2×2 Matrix{Float64}:\n",
       "  1.0          -1.11022e-16\n",
       " -1.11022e-16   1.0"
      ]
     },
     "execution_count": 16,
     "metadata": {},
     "output_type": "execute_result"
    }
   ],
   "source": [
    "Q'*Q"
   ]
  },
  {
   "cell_type": "code",
   "execution_count": 17,
   "metadata": {
    "scrolled": true
   },
   "outputs": [
    {
     "data": {
      "text/plain": [
       "QR (generic function with 1 method)"
      ]
     },
     "execution_count": 17,
     "metadata": {},
     "output_type": "execute_result"
    }
   ],
   "source": [
    "function QR(a1, a2)\n",
    "    q1=normalizar(a1)\n",
    "    p=projetar(a2,q1)\n",
    "    q2=a2-p\n",
    "    q2=normalizar(q2)\n",
    "    return q1,q2\n",
    "end"
   ]
  },
  {
   "cell_type": "code",
   "execution_count": 18,
   "metadata": {},
   "outputs": [
    {
     "data": {
      "text/plain": [
       "projetar_em_dois_vetores (generic function with 1 method)"
      ]
     },
     "execution_count": 18,
     "metadata": {},
     "output_type": "execute_result"
    }
   ],
   "source": [
    "function projetar_em_dois_vetores(b,v,w) #||v||=1, ||w||=1 v perp w , v e w geram um plano\n",
    "    x=(b'*v) # \n",
    "    y=(b'*w) #\n",
    "    return v*x + w*y\n",
    "end"
   ]
  },
  {
   "cell_type": "code",
   "execution_count": 19,
   "metadata": {},
   "outputs": [
    {
     "data": {
      "text/plain": [
       "projetar_em_um_vetor (generic function with 1 method)"
      ]
     },
     "execution_count": 19,
     "metadata": {},
     "output_type": "execute_result"
    }
   ],
   "source": [
    "function projetar_em_um_vetor(b,v) #||v||=1,  v  geram uma reta\n",
    "    x=(b'*v) # \n",
    "    return v*x\n",
    "end"
   ]
  },
  {
   "cell_type": "code",
   "execution_count": 20,
   "metadata": {},
   "outputs": [
    {
     "ename": "LoadError",
     "evalue": "UndefVarError: projetar not defined",
     "output_type": "error",
     "traceback": [
      "UndefVarError: projetar not defined",
      "",
      "Stacktrace:",
      " [1] top-level scope",
      "   @ In[20]:5",
      " [2] eval",
      "   @ .\\boot.jl:360 [inlined]",
      " [3] include_string(mapexpr::typeof(REPL.softscope), mod::Module, code::String, filename::String)",
      "   @ Base .\\loading.jl:1094"
     ]
    }
   ],
   "source": [
    "#TESTE\n",
    "direção=randn(2,1)\n",
    "direção=normalizar(direção)\n",
    "v=randn(2,1)\n",
    "projetar(v,direção)\n",
    "#TESTE:CASA"
   ]
  },
  {
   "cell_type": "code",
   "execution_count": 21,
   "metadata": {},
   "outputs": [
    {
     "ename": "LoadError",
     "evalue": "UndefVarError: projetar not defined",
     "output_type": "error",
     "traceback": [
      "UndefVarError: projetar not defined",
      "",
      "Stacktrace:",
      " [1] QR(a1::Matrix{Float64}, a2::Matrix{Float64})",
      "   @ Main .\\In[17]:3",
      " [2] top-level scope",
      "   @ In[21]:4",
      " [3] eval",
      "   @ .\\boot.jl:360 [inlined]",
      " [4] include_string(mapexpr::typeof(REPL.softscope), mod::Module, code::String, filename::String)",
      "   @ Base .\\loading.jl:1094"
     ]
    }
   ],
   "source": [
    "#Teste do QR\n",
    "a1=randn(2,1)\n",
    "a2=randn(2,1)\n",
    "q1,q2=QR(a1,a2)\n",
    "Q=[q1 q2]\n",
    "Q'*Q"
   ]
  },
  {
   "cell_type": "code",
   "execution_count": 22,
   "metadata": {},
   "outputs": [
    {
     "data": {
      "text/plain": [
       "QR2 (generic function with 1 method)"
      ]
     },
     "execution_count": 22,
     "metadata": {},
     "output_type": "execute_result"
    }
   ],
   "source": [
    "function QR2(A)\n",
    "    a1=A[:,1]\n",
    "    a2=A[:,2]\n",
    "    \n",
    "    r11=norm(a1)\n",
    "    q1=a1/r11\n",
    "    \n",
    "    r12=(a2'*q1) #tamanho da projeção do a2 na reta gerada por q1\n",
    "    p=q1*r12\n",
    "    q2=a2-p\n",
    "    \n",
    "    r22=norm(q2)\n",
    "    q2=q2/r22\n",
    "    \n",
    "    Q=[q1 q2]\n",
    "    R=[r11 r12; 0 r22]\n",
    "    \n",
    "    return Q, R\n",
    "end"
   ]
  },
  {
   "cell_type": "code",
   "execution_count": 23,
   "metadata": {},
   "outputs": [
    {
     "data": {
      "text/plain": [
       "true"
      ]
     },
     "execution_count": 23,
     "metadata": {},
     "output_type": "execute_result"
    }
   ],
   "source": [
    "A=randn(2,2)\n",
    "Q,R=QR2(A)\n",
    "#Q'*Q\n",
    "#R\n",
    "norm(A-Q*R)<0.0000000000001"
   ]
  },
  {
   "cell_type": "code",
   "execution_count": 32,
   "metadata": {
    "scrolled": false
   },
   "outputs": [
    {
     "data": {
      "text/plain": [
       "QR3D (generic function with 1 method)"
      ]
     },
     "execution_count": 32,
     "metadata": {},
     "output_type": "execute_result"
    }
   ],
   "source": [
    "function QR3D(a1, a2, a3)\n",
    "    q1=normalizar(a1)\n",
    "    p1= projetar_em_um_vetor(a2,q1)\n",
    "    q2=a2-p1\n",
    "    q2=normalizar(q2)\n",
    "    p2=projetar_em_dois_vetores(a3,q1,q2)\n",
    "    q3=a3-p2\n",
    "    q3=normalizar(q3)\n",
    "    \n",
    "    return q1,q2,q3\n",
    "end"
   ]
  },
  {
   "cell_type": "code",
   "execution_count": 33,
   "metadata": {
    "scrolled": true
   },
   "outputs": [
    {
     "data": {
      "text/plain": [
       "3×3 Matrix{Float64}:\n",
       " 1.0          1.249e-16    1.88738e-15\n",
       " 1.249e-16    1.0          3.61516e-15\n",
       " 1.88738e-15  3.61516e-15  1.0"
      ]
     },
     "execution_count": 33,
     "metadata": {},
     "output_type": "execute_result"
    }
   ],
   "source": [
    "#teste\n",
    "#Teste do QR\n",
    "a1=randn(3,1)\n",
    "a2=randn(3,1)\n",
    "a3=randn(3,1)\n",
    "q1,q2,q3=QR3D(a1,a2,a3)\n",
    "Q=[q1 q2 q3]\n",
    "Q'*Q"
   ]
  },
  {
   "cell_type": "code",
   "execution_count": 41,
   "metadata": {},
   "outputs": [
    {
     "data": {
      "text/plain": [
       "QR_geral (generic function with 1 method)"
      ]
     },
     "execution_count": 41,
     "metadata": {},
     "output_type": "execute_result"
    }
   ],
   "source": [
    "function QR_geral(A)\n",
    "    n,n=size(A)\n",
    "    Q=zeros(n,n)\n",
    "    Q[:,1]=normalizar(A[:,1])\n",
    "    for i=2:n\n",
    "        p= projetar_geral(A[:,i],Q[:,1:(i-1)])\n",
    "        Q[:,i]=A[:,i]-p\n",
    "        Q[:,i]=normalizar(Q[:,i])\n",
    "    end\n",
    "    return Q\n",
    "end"
   ]
  },
  {
   "cell_type": "code",
   "execution_count": 51,
   "metadata": {},
   "outputs": [
    {
     "data": {
      "text/plain": [
       "40.00000000000001"
      ]
     },
     "execution_count": 51,
     "metadata": {},
     "output_type": "execute_result"
    }
   ],
   "source": [
    "A=randn(40,40)\n",
    "Q=QR_geral(A)\n",
    "norm(Q'*Q)^2"
   ]
  },
  {
   "cell_type": "code",
   "execution_count": 38,
   "metadata": {},
   "outputs": [
    {
     "data": {
      "text/plain": [
       "projetar_geral (generic function with 1 method)"
      ]
     },
     "execution_count": 38,
     "metadata": {},
     "output_type": "execute_result"
    }
   ],
   "source": [
    "function projetar_geral(b,M)\n",
    "    m,n=size(M)\n",
    "    proj=zeros(m,1)\n",
    "    for i=1:n\n",
    "        proj+=M[:,i]*(b'*M[:,i])\n",
    "    end\n",
    "    return proj\n",
    "end"
   ]
  },
  {
   "cell_type": "code",
   "execution_count": 40,
   "metadata": {},
   "outputs": [
    {
     "data": {
      "text/plain": [
       "3×1 Matrix{Float64}:\n",
       " 1.0\n",
       " 1.0\n",
       " 0.0"
      ]
     },
     "execution_count": 40,
     "metadata": {},
     "output_type": "execute_result"
    }
   ],
   "source": [
    "b=[1;1;1]\n",
    "M=[ 1 0;\n",
    "    0 1;\n",
    "    0 0 ]\n",
    "projetar_geral(b,M)"
   ]
  },
  {
   "cell_type": "code",
   "execution_count": 35,
   "metadata": {},
   "outputs": [
    {
     "data": {
      "text/plain": [
       "3×3 Matrix{Float64}:\n",
       " 1.0          1.66533e-16  3.33067e-16\n",
       " 1.66533e-16  1.0          8.32667e-17\n",
       " 3.33067e-16  8.32667e-17  1.0"
      ]
     },
     "execution_count": 35,
     "metadata": {},
     "output_type": "execute_result"
    }
   ],
   "source": [
    "A=randn(3,3)\n",
    "Q=QR_geral(A)\n",
    "Q'*Q"
   ]
  }
 ],
 "metadata": {
  "kernelspec": {
   "display_name": "Julia 1.6.0",
   "language": "julia",
   "name": "julia-1.6"
  },
  "language_info": {
   "file_extension": ".jl",
   "mimetype": "application/julia",
   "name": "julia",
   "version": "1.6.0"
  }
 },
 "nbformat": 4,
 "nbformat_minor": 4
}
