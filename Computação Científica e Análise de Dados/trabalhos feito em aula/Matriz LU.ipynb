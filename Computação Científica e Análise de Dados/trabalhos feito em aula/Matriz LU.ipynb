{
 "cells": [
  {
   "cell_type": "code",
   "execution_count": 11,
   "metadata": {
    "scrolled": false
   },
   "outputs": [
    {
     "data": {
      "text/plain": [
       "LU_rec (generic function with 1 method)"
      ]
     },
     "execution_count": 11,
     "metadata": {},
     "output_type": "execute_result"
    }
   ],
   "source": [
    "function LU_rec(A)\n",
    "    n, n = size(A)\n",
    "    if n == 1\n",
    "        return [1.0], A\n",
    "    else\n",
    "        alpha11, a12, a21, A22 = split(A)\n",
    "        L1, U1 = LU_rec(A22 - (a21 * a12')*(1/alpha11))\n",
    "        L = [\n",
    "            1 zeros(1, n-1) ;\n",
    "            (1/alpha11 * a21) L1\n",
    "        ]\n",
    "        U = [\n",
    "            alpha11 a12' ;\n",
    "            zeros(n-1, 1) U1\n",
    "        ]\n",
    "        return L, U\n",
    "    end\n",
    "end"
   ]
  },
  {
   "cell_type": "code",
   "execution_count": 12,
   "metadata": {},
   "outputs": [],
   "source": [
    "using LinearAlgebra"
   ]
  },
  {
   "cell_type": "code",
   "execution_count": 13,
   "metadata": {
    "scrolled": true
   },
   "outputs": [
    {
     "data": {
      "text/plain": [
       "3×3 Matrix{Int64}:\n",
       " 1  2  3\n",
       " 4  5  6\n",
       " 7  8  9"
      ]
     },
     "execution_count": 13,
     "metadata": {},
     "output_type": "execute_result"
    }
   ],
   "source": [
    "A = [ 1 2 3 ; 4 5 6 ; 7 8 9 ]"
   ]
  },
  {
   "cell_type": "code",
   "execution_count": 14,
   "metadata": {},
   "outputs": [
    {
     "data": {
      "text/plain": [
       "(1, [2, 3], [4, 7], [5 6; 8 9])"
      ]
     },
     "execution_count": 14,
     "metadata": {},
     "output_type": "execute_result"
    }
   ],
   "source": [
    "A[1,1], A[1,2:end], A[2:end,1], A[2:end,2:end]"
   ]
  },
  {
   "cell_type": "code",
   "execution_count": 15,
   "metadata": {},
   "outputs": [
    {
     "data": {
      "text/plain": [
       "split (generic function with 1 method)"
      ]
     },
     "execution_count": 15,
     "metadata": {},
     "output_type": "execute_result"
    }
   ],
   "source": [
    "function split(A)\n",
    "    return A[1,1], A[1,2:end], A[2:end,1], A[2:end,2:end]\n",
    "end"
   ]
  },
  {
   "cell_type": "code",
   "execution_count": 16,
   "metadata": {},
   "outputs": [
    {
     "data": {
      "text/plain": [
       "Matrix{Float64} (alias for Array{Float64, 2})"
      ]
     },
     "execution_count": 16,
     "metadata": {},
     "output_type": "execute_result"
    }
   ],
   "source": [
    "A=randn(3,3)\n",
    "a,b,c,d=split(A)\n",
    "typeof(d)\n"
   ]
  },
  {
   "cell_type": "code",
   "execution_count": 22,
   "metadata": {},
   "outputs": [
    {
     "data": {
      "text/plain": [
       "300×300 Matrix{Float64}:\n",
       " -0.402666     0.936842   -0.235533   …   0.754916    0.59779     -1.84825\n",
       "  1.18745      1.09486    -0.575171       1.24817    -0.681882     0.371687\n",
       "  0.668359     0.486861    0.942461      -0.429233   -1.79777     -0.757962\n",
       " -1.65917      1.82704     0.915639      -0.454029   -1.42771     -0.630744\n",
       "  0.0616957   -0.242337   -1.25319        1.34329    -0.877775     0.217768\n",
       "  0.30235      0.0120029  -0.770661   …  -1.45964     0.844208     0.676268\n",
       "  0.99092      0.290228    1.46931        0.678923   -0.0663439    1.19623\n",
       " -0.36047     -0.93273    -0.236287      -0.569954    0.112853    -1.20101\n",
       "  0.0231067    1.59589    -1.00185       -1.44167     0.555327     1.20327\n",
       "  0.00997277   1.34573     0.726557      -0.674544   -0.406412     1.60439\n",
       "  0.660613     1.1819      0.798506   …   0.369224   -0.280159     0.0457901\n",
       "  0.838536     1.52087     0.445308      -2.25626     0.338968     0.322618\n",
       " -1.61641      0.0655496  -0.835454      -0.977584    0.779944    -0.0152972\n",
       "  ⋮                                   ⋱                           \n",
       "  0.586709     0.644115    0.962502       1.22255     1.73812     -1.10828\n",
       "  0.118025     0.185865    0.0752105      1.1999      1.29056     -0.153644\n",
       "  0.64023      0.263292   -0.187968   …  -0.0692474  -0.0391275    1.14172\n",
       " -0.46195     -0.14884     0.386446       0.844178    0.451558    -1.72072\n",
       "  0.530612     0.911355    2.1458         0.790476    1.82314      1.91417\n",
       "  0.938757     1.17298     0.311732      -0.115843    1.522        1.45204\n",
       "  0.167123    -1.238       1.15385       -0.0392469   1.84437      0.337916\n",
       "  1.23686     -0.191585    0.876677   …  -1.53699    -1.477       -0.549038\n",
       " -0.726609    -0.218043   -1.05871        0.108422   -0.00050202   0.0384752\n",
       " -1.48585     -0.582908   -1.06582        1.5895      0.724283     0.711866\n",
       " -0.697419    -0.79513    -0.908547       0.270258    0.232532     0.624359\n",
       " -0.850091    -0.296693    1.88364        0.550188   -0.858758     1.18536"
      ]
     },
     "execution_count": 22,
     "metadata": {},
     "output_type": "execute_result"
    }
   ],
   "source": [
    "n = 300\n",
    "A = randn(n,n)\n"
   ]
  },
  {
   "cell_type": "code",
   "execution_count": 23,
   "metadata": {},
   "outputs": [
    {
     "data": {
      "text/plain": [
       "1.895718203293575e-10"
      ]
     },
     "execution_count": 23,
     "metadata": {},
     "output_type": "execute_result"
    }
   ],
   "source": [
    "L,U=LU_rec(A)\n",
    "norm(A-L*U)"
   ]
  },
  {
   "cell_type": "code",
   "execution_count": 19,
   "metadata": {},
   "outputs": [
    {
     "data": {
      "text/plain": [
       "Matrix{Float64} (alias for Array{Float64, 2})"
      ]
     },
     "execution_count": 19,
     "metadata": {},
     "output_type": "execute_result"
    }
   ],
   "source": [
    "typeof(U)"
   ]
  },
  {
   "cell_type": "code",
   "execution_count": 20,
   "metadata": {},
   "outputs": [
    {
     "data": {
      "text/plain": [
       "Matrix{Float64} (alias for Array{Float64, 2})"
      ]
     },
     "execution_count": 20,
     "metadata": {},
     "output_type": "execute_result"
    }
   ],
   "source": [
    "typeof(L)"
   ]
  },
  {
   "cell_type": "code",
   "execution_count": null,
   "metadata": {},
   "outputs": [],
   "source": []
  }
 ],
 "metadata": {
  "kernelspec": {
   "display_name": "Julia 1.8.5",
   "language": "julia",
   "name": "julia-1.8"
  },
  "language_info": {
   "file_extension": ".jl",
   "mimetype": "application/julia",
   "name": "julia",
   "version": "1.8.5"
  }
 },
 "nbformat": 4,
 "nbformat_minor": 4
}
