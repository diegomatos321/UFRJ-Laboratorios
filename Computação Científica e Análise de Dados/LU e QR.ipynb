{
 "cells": [
  {
   "cell_type": "code",
   "execution_count": 1,
   "metadata": {},
   "outputs": [],
   "source": [
    "using LinearAlgebra"
   ]
  },
  {
   "cell_type": "code",
   "execution_count": 12,
   "metadata": {
    "scrolled": true
   },
   "outputs": [
    {
     "data": {
      "text/plain": [
       "LU (generic function with 1 method)"
      ]
     },
     "execution_count": 12,
     "metadata": {},
     "output_type": "execute_result"
    }
   ],
   "source": [
    "function LU(A) #A é uma matriz nxn\n",
    "    n,n=size(A)\n",
    "    L=zeros(n,n)\n",
    "    U=zeros(n,n)\n",
    "    \n",
    "    for i=1:n\n",
    "        pivô=A[i,i]\n",
    "        coluna=(1/pivô)*A[:,i]\n",
    "        linha=A[i,:]\n",
    "        A=A-coluna*linha'\n",
    "        L[:,i]=coluna\n",
    "        U[i,:]=linha\n",
    "    end\n",
    "    return L,U\n",
    "end"
   ]
  },
  {
   "cell_type": "code",
   "execution_count": 13,
   "metadata": {
    "scrolled": true
   },
   "outputs": [
    {
     "data": {
      "text/plain": [
       "3×3 Matrix{Int64}:\n",
       "  2   1   2\n",
       " 10  14  10\n",
       " 14  47  17"
      ]
     },
     "execution_count": 13,
     "metadata": {},
     "output_type": "execute_result"
    }
   ],
   "source": [
    "A=[2 1 2; 10 14 10;14 47 17]"
   ]
  },
  {
   "cell_type": "code",
   "execution_count": 15,
   "metadata": {},
   "outputs": [
    {
     "data": {
      "text/plain": [
       "([1.0 0.0 0.0; 5.0 1.0 0.0; 7.0 4.444444444444445 1.0], [2.0 1.0 2.0; 0.0 9.0 0.0; 0.0 0.0 3.0])"
      ]
     },
     "execution_count": 15,
     "metadata": {},
     "output_type": "execute_result"
    }
   ],
   "source": [
    "L,U=LU(A)"
   ]
  },
  {
   "cell_type": "code",
   "execution_count": 16,
   "metadata": {},
   "outputs": [
    {
     "data": {
      "text/plain": [
       "3×3 Matrix{Float64}:\n",
       " 1.0  0.0      0.0\n",
       " 5.0  1.0      0.0\n",
       " 7.0  4.44444  1.0"
      ]
     },
     "execution_count": 16,
     "metadata": {},
     "output_type": "execute_result"
    }
   ],
   "source": [
    "L"
   ]
  },
  {
   "cell_type": "code",
   "execution_count": 17,
   "metadata": {},
   "outputs": [
    {
     "data": {
      "text/plain": [
       "3×3 Matrix{Float64}:\n",
       " 2.0  1.0  2.0\n",
       " 0.0  9.0  0.0\n",
       " 0.0  0.0  3.0"
      ]
     },
     "execution_count": 17,
     "metadata": {},
     "output_type": "execute_result"
    }
   ],
   "source": [
    "U"
   ]
  },
  {
   "cell_type": "code",
   "execution_count": 74,
   "metadata": {},
   "outputs": [
    {
     "data": {
      "text/plain": [
       "true"
      ]
     },
     "execution_count": 74,
     "metadata": {},
     "output_type": "execute_result"
    }
   ],
   "source": [
    "#teste\n",
    "A=randn(100,100)\n",
    "L,U=LU(A)\n",
    "norm(A-L*U)<0.00001"
   ]
  },
  {
   "cell_type": "code",
   "execution_count": 75,
   "metadata": {},
   "outputs": [
    {
     "data": {
      "text/plain": [
       "normalizar (generic function with 1 method)"
      ]
     },
     "execution_count": 75,
     "metadata": {},
     "output_type": "execute_result"
    }
   ],
   "source": [
    "function normalizar(v)\n",
    "    return v/norm(v)\n",
    "end"
   ]
  },
  {
   "cell_type": "code",
   "execution_count": 79,
   "metadata": {
    "scrolled": false
   },
   "outputs": [
    {
     "data": {
      "text/plain": [
       "2-element Vector{Float64}:\n",
       " 0.6\n",
       " 0.8"
      ]
     },
     "execution_count": 79,
     "metadata": {},
     "output_type": "execute_result"
    }
   ],
   "source": [
    "v=[3;4]\n",
    "normalizar(v)\n"
   ]
  },
  {
   "cell_type": "code",
   "execution_count": 81,
   "metadata": {
    "scrolled": false
   },
   "outputs": [
    {
     "data": {
      "text/plain": [
       "QR (generic function with 1 method)"
      ]
     },
     "execution_count": 81,
     "metadata": {},
     "output_type": "execute_result"
    }
   ],
   "source": [
    "function QR(A) #A é uma matriz nxn\n",
    "    n,n=size(A)\n",
    "    Q=zeros(n,n)\n",
    "    R=zeros(n,n)\n",
    "    \n",
    "    for i=1:n\n",
    "        coluna=normalizar(A[:,i])\n",
    "        linha=A'*coluna\n",
    "        A=A-coluna*linha'\n",
    "        Q[:,i]=coluna\n",
    "        R[i,:]=linha\n",
    "    end\n",
    "    return Q,R\n",
    "end"
   ]
  },
  {
   "cell_type": "code",
   "execution_count": 91,
   "metadata": {},
   "outputs": [
    {
     "data": {
      "text/plain": [
       "true"
      ]
     },
     "execution_count": 91,
     "metadata": {},
     "output_type": "execute_result"
    }
   ],
   "source": [
    "#teste\n",
    "A=randn(4,4)\n",
    "Q,R=QR(A)\n",
    "norm(A-Q*R)<0.00001"
   ]
  },
  {
   "cell_type": "code",
   "execution_count": 104,
   "metadata": {},
   "outputs": [
    {
     "data": {
      "text/plain": [
       "4×4 Matrix{Real}:\n",
       " 1.0  0    0    0\n",
       " 0    1.0  0    0\n",
       " 0    0    1.0  0\n",
       " 0    0    0    1.0"
      ]
     },
     "execution_count": 104,
     "metadata": {},
     "output_type": "execute_result"
    }
   ],
   "source": [
    "reduce_to_zero.(Q*Q')"
   ]
  },
  {
   "cell_type": "code",
   "execution_count": 100,
   "metadata": {},
   "outputs": [
    {
     "data": {
      "text/plain": [
       "reduce_to_zero (generic function with 1 method)"
      ]
     },
     "execution_count": 100,
     "metadata": {},
     "output_type": "execute_result"
    }
   ],
   "source": [
    "function reduce_to_zero(a)\n",
    "    if abs(a)<0.000001\n",
    "        return 0\n",
    "    else \n",
    "        return a\n",
    "    end\n",
    "end"
   ]
  },
  {
   "cell_type": "code",
   "execution_count": 102,
   "metadata": {},
   "outputs": [
    {
     "data": {
      "text/plain": [
       "0"
      ]
     },
     "execution_count": 102,
     "metadata": {},
     "output_type": "execute_result"
    }
   ],
   "source": [
    "reduce_to_zero(0.000000003)"
   ]
  },
  {
   "cell_type": "code",
   "execution_count": 94,
   "metadata": {},
   "outputs": [
    {
     "data": {
      "text/plain": [
       "4×4 Matrix{Float64}:\n",
       " -0.577983   0.40422     0.504092   0.590056\n",
       " -0.388761  -0.0893016   0.183944   0.209774\n",
       " -0.208975  -0.27822     1.45001   -0.114885\n",
       "  0.697418   0.794468   -0.443932  -0.370594"
      ]
     },
     "execution_count": 94,
     "metadata": {},
     "output_type": "execute_result"
    }
   ],
   "source": [
    "A"
   ]
  },
  {
   "cell_type": "code",
   "execution_count": 112,
   "metadata": {},
   "outputs": [
    {
     "data": {
      "text/plain": [
       "30×30 Matrix{Real}:\n",
       " 1.0  0    0    0    0    0    0    0    …  0    0    0    0    0    0    0\n",
       " 0    1.0  0    0    0    0    0    0       0    0    0    0    0    0    0\n",
       " 0    0    1.0  0    0    0    0    0       0    0    0    0    0    0    0\n",
       " 0    0    0    1.0  0    0    0    0       0    0    0    0    0    0    0\n",
       " 0    0    0    0    1.0  0    0    0       0    0    0    0    0    0    0\n",
       " 0    0    0    0    0    1.0  0    0    …  0    0    0    0    0    0    0\n",
       " 0    0    0    0    0    0    1.0  0       0    0    0    0    0    0    0\n",
       " 0    0    0    0    0    0    0    1.0     0    0    0    0    0    0    0\n",
       " 0    0    0    0    0    0    0    0       0    0    0    0    0    0    0\n",
       " 0    0    0    0    0    0    0    0       0    0    0    0    0    0    0\n",
       " 0    0    0    0    0    0    0    0    …  0    0    0    0    0    0    0\n",
       " 0    0    0    0    0    0    0    0       0    0    0    0    0    0    0\n",
       " 0    0    0    0    0    0    0    0       0    0    0    0    0    0    0\n",
       " ⋮                        ⋮              ⋱            ⋮                   \n",
       " 0    0    0    0    0    0    0    0       0    0    0    0    0    0    0\n",
       " 0    0    0    0    0    0    0    0       0    0    0    0    0    0    0\n",
       " 0    0    0    0    0    0    0    0    …  0    0    0    0    0    0    0\n",
       " 0    0    0    0    0    0    0    0       0    0    0    0    0    0    0\n",
       " 0    0    0    0    0    0    0    0       0    0    0    0    0    0    0\n",
       " 0    0    0    0    0    0    0    0       1.0  0    0    0    0    0    0\n",
       " 0    0    0    0    0    0    0    0       0    1.0  0    0    0    0    0\n",
       " 0    0    0    0    0    0    0    0    …  0    0    1.0  0    0    0    0\n",
       " 0    0    0    0    0    0    0    0       0    0    0    1.0  0    0    0\n",
       " 0    0    0    0    0    0    0    0       0    0    0    0    1.0  0    0\n",
       " 0    0    0    0    0    0    0    0       0    0    0    0    0    1.0  0\n",
       " 0    0    0    0    0    0    0    0       0    0    0    0    0    0    1.0"
      ]
     },
     "execution_count": 112,
     "metadata": {},
     "output_type": "execute_result"
    }
   ],
   "source": [
    "n=30\n",
    "A=randn(n,n)\n",
    "Q,R=QR(A)\n",
    "reduce_to_zero.(Q*Q')\n"
   ]
  },
  {
   "cell_type": "code",
   "execution_count": 113,
   "metadata": {},
   "outputs": [
    {
     "data": {
      "text/plain": [
       "6.615993618983323e-15"
      ]
     },
     "execution_count": 113,
     "metadata": {},
     "output_type": "execute_result"
    }
   ],
   "source": [
    "norm(A-Q*R)"
   ]
  },
  {
   "cell_type": "code",
   "execution_count": 136,
   "metadata": {},
   "outputs": [
    {
     "data": {
      "text/plain": [
       "QR_clássico (generic function with 1 method)"
      ]
     },
     "execution_count": 136,
     "metadata": {},
     "output_type": "execute_result"
    }
   ],
   "source": [
    "function QR_clássico(A) #A é uma matriz nxn\n",
    "    n,n=size(A)\n",
    "    Q=zeros(3,3)\n",
    "    Q[:,1]=normalizar(A[:,1])\n",
    "    Q[:,2]=A[:,2]-proj(A[:,2],Q[:,1:1])\n",
    "    Q[:,2]=normalizar(Q[:,2])\n",
    "    Q[:,3]=A[:,3]-proj(A[:,3],Q[:,1:2])\n",
    "    Q[:,3]=normalizar(Q[:,3])\n",
    "    #CASA generalizar\n",
    "    return Q\n",
    "end"
   ]
  },
  {
   "cell_type": "code",
   "execution_count": 137,
   "metadata": {},
   "outputs": [
    {
     "data": {
      "text/plain": [
       "proj (generic function with 1 method)"
      ]
     },
     "execution_count": 137,
     "metadata": {},
     "output_type": "execute_result"
    }
   ],
   "source": [
    "function proj(a,Q)\n",
    "    n,m=size(Q)\n",
    "    P=zeros(n,1)\n",
    "    for i=1:m\n",
    "        P=P+(a'*Q[:,i])*Q[:,i]\n",
    "    end\n",
    "    return P\n",
    "end"
   ]
  },
  {
   "cell_type": "code",
   "execution_count": 138,
   "metadata": {},
   "outputs": [
    {
     "data": {
      "text/plain": [
       "3×1 Matrix{Float64}:\n",
       " -0.6582921203068806\n",
       "  3.9406979538947478\n",
       "  6.297743051802289"
      ]
     },
     "execution_count": 138,
     "metadata": {},
     "output_type": "execute_result"
    }
   ],
   "source": [
    "Q=randn(3,3)\n",
    "a=[2;1;3]\n",
    "proj(a,Q)"
   ]
  },
  {
   "cell_type": "code",
   "execution_count": 140,
   "metadata": {},
   "outputs": [
    {
     "data": {
      "text/plain": [
       "3×3 Matrix{Real}:\n",
       " 1.0  0    0\n",
       " 0    1.0  0\n",
       " 0    0    1.0"
      ]
     },
     "execution_count": 140,
     "metadata": {},
     "output_type": "execute_result"
    }
   ],
   "source": [
    "n=3\n",
    "A=randn(n,n)\n",
    "Q=QR_clássico(A)\n",
    "reduce_to_zero.(Q'*Q)"
   ]
  }
 ],
 "metadata": {
  "kernelspec": {
   "display_name": "Julia 1.6.0",
   "language": "julia",
   "name": "julia-1.6"
  },
  "language_info": {
   "file_extension": ".jl",
   "mimetype": "application/julia",
   "name": "julia",
   "version": "1.6.0"
  }
 },
 "nbformat": 4,
 "nbformat_minor": 4
}
