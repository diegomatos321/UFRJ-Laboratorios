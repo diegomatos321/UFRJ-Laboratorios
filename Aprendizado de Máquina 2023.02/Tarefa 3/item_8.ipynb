{
 "cells": [
  {
   "cell_type": "markdown",
   "metadata": {},
   "source": [
    "8. Aplique a regressão linear no dataset Advertising.csv usando o K-fold (https://scikit-learn.org/stable/modules/generated/sklearn.model_selection.KFold.html#sklearn.model_selection.KFold). Considere os valores de K = 5 e 10."
   ]
  },
  {
   "cell_type": "code",
   "execution_count": 1,
   "metadata": {},
   "outputs": [],
   "source": [
    "import pandas as pd\n",
    "from sklearn.linear_model import LinearRegression\n",
    "from sklearn.model_selection import KFold"
   ]
  },
  {
   "cell_type": "code",
   "execution_count": 2,
   "metadata": {},
   "outputs": [
    {
     "data": {
      "text/html": [
       "<div>\n",
       "<style scoped>\n",
       "    .dataframe tbody tr th:only-of-type {\n",
       "        vertical-align: middle;\n",
       "    }\n",
       "\n",
       "    .dataframe tbody tr th {\n",
       "        vertical-align: top;\n",
       "    }\n",
       "\n",
       "    .dataframe thead th {\n",
       "        text-align: right;\n",
       "    }\n",
       "</style>\n",
       "<table border=\"1\" class=\"dataframe\">\n",
       "  <thead>\n",
       "    <tr style=\"text-align: right;\">\n",
       "      <th></th>\n",
       "      <th>TV</th>\n",
       "      <th>radio</th>\n",
       "      <th>newspaper</th>\n",
       "      <th>sales</th>\n",
       "    </tr>\n",
       "  </thead>\n",
       "  <tbody>\n",
       "    <tr>\n",
       "      <th>0</th>\n",
       "      <td>230.1</td>\n",
       "      <td>37.8</td>\n",
       "      <td>69.2</td>\n",
       "      <td>22.1</td>\n",
       "    </tr>\n",
       "    <tr>\n",
       "      <th>1</th>\n",
       "      <td>44.5</td>\n",
       "      <td>39.3</td>\n",
       "      <td>45.1</td>\n",
       "      <td>10.4</td>\n",
       "    </tr>\n",
       "    <tr>\n",
       "      <th>2</th>\n",
       "      <td>17.2</td>\n",
       "      <td>45.9</td>\n",
       "      <td>69.3</td>\n",
       "      <td>9.3</td>\n",
       "    </tr>\n",
       "    <tr>\n",
       "      <th>3</th>\n",
       "      <td>151.5</td>\n",
       "      <td>41.3</td>\n",
       "      <td>58.5</td>\n",
       "      <td>18.5</td>\n",
       "    </tr>\n",
       "    <tr>\n",
       "      <th>4</th>\n",
       "      <td>180.8</td>\n",
       "      <td>10.8</td>\n",
       "      <td>58.4</td>\n",
       "      <td>12.9</td>\n",
       "    </tr>\n",
       "  </tbody>\n",
       "</table>\n",
       "</div>"
      ],
      "text/plain": [
       "      TV  radio  newspaper  sales\n",
       "0  230.1   37.8       69.2   22.1\n",
       "1   44.5   39.3       45.1   10.4\n",
       "2   17.2   45.9       69.3    9.3\n",
       "3  151.5   41.3       58.5   18.5\n",
       "4  180.8   10.8       58.4   12.9"
      ]
     },
     "execution_count": 2,
     "metadata": {},
     "output_type": "execute_result"
    }
   ],
   "source": [
    "df = pd.read_csv('./Advertising.csv')\n",
    "df.head()"
   ]
  },
  {
   "cell_type": "code",
   "execution_count": 3,
   "metadata": {},
   "outputs": [],
   "source": [
    "# TODO: Separar conjunto de teste e treinamento, verificar por valores duplicados, nulos e outliers\n",
    "\n",
    "kf_5 = KFold(n_splits=5)\n",
    "kf_10 = KFold(n_splits=10)"
   ]
  },
  {
   "cell_type": "code",
   "execution_count": 4,
   "metadata": {},
   "outputs": [
    {
     "name": "stdout",
     "output_type": "stream",
     "text": [
      "Fold 0:\n",
      "Coeficientes: \n",
      "2.9062606856111053 [0.04597112 0.18935098]\n",
      "\n",
      "Fold 1:\n",
      "Coeficientes: \n",
      "2.9076795907438076 [0.04515461 0.1886916 ]\n",
      "\n",
      "Fold 2:\n",
      "Coeficientes: \n",
      "2.6830489847648575 [0.04696982 0.18761083]\n",
      "\n",
      "Fold 3:\n",
      "Coeficientes: \n",
      "3.230555824164856 [0.04320992 0.19547805]\n",
      "\n",
      "Fold 4:\n",
      "Coeficientes: \n",
      "2.9318025968575014 [0.04725058 0.17939317]\n",
      "\n"
     ]
    }
   ],
   "source": [
    "X = df.drop(['newspaper', 'sales'], axis=1) # Ignorando feature de newspaper pois ela alta correlação com Rádio \n",
    "                                    # e não contribui muito para prever as vendas\n",
    "Y = df['sales']\n",
    "\n",
    "\n",
    "for i, (train_index, test_index) in enumerate(kf_5.split(X)):\n",
    "    print(f\"Fold {i}:\")\n",
    "    \n",
    "    kf_x_train, kf_x_test = X.iloc[train_index,:], X.iloc[test_index,:]\n",
    "    kf_y_train, kf_y_test = Y[train_index], Y[test_index]\n",
    "\n",
    "    # TODO: Encontrar erro\n",
    "    reg = LinearRegression().fit(kf_x_train, kf_y_train)\n",
    "\n",
    "    print(\"Coeficientes: \")\n",
    "    print(reg.intercept_, reg.coef_)\n",
    "    print()"
   ]
  }
 ],
 "metadata": {
  "kernelspec": {
   "display_name": "Python 3",
   "language": "python",
   "name": "python3"
  },
  "language_info": {
   "codemirror_mode": {
    "name": "ipython",
    "version": 3
   },
   "file_extension": ".py",
   "mimetype": "text/x-python",
   "name": "python",
   "nbconvert_exporter": "python",
   "pygments_lexer": "ipython3",
   "version": "3.11.1"
  }
 },
 "nbformat": 4,
 "nbformat_minor": 2
}
