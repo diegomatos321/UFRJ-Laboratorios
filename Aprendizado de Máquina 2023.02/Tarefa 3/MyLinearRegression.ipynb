{
 "cells": [
  {
   "cell_type": "code",
   "execution_count": 1,
   "metadata": {},
   "outputs": [],
   "source": [
    "import numpy as np\n",
    "from matplotlib import pyplot as plt\n",
    "import math"
   ]
  },
  {
   "cell_type": "markdown",
   "metadata": {},
   "source": [
    "1. Implemente a regressão linear com múltiplas variáveis apresentada no slide 25 da aula 5. Para isso você pode utilizar os métodos np.dot e np.linalg.inv do pacote Numpy. A sua implementação deve funcionar para qualquer número de variáveis de entrada. \n"
   ]
  },
  {
   "cell_type": "code",
   "execution_count": 3,
   "metadata": {},
   "outputs": [],
   "source": [
    "def MyLinearRegression(dataframe: np.ndarray[np.ndarray[float]]):\n",
    "    count_pontos = len(dataframe) # Pontos que devem ser melhor ajustados ao modelo\n",
    "    count_features = len(dataframe[0]) - 1 # Último elemento é o y\n",
    "    \n",
    "    X = np.ones(shape=(count_pontos, count_features + 1))\n",
    "    Y = np.zeros(shape=(count_pontos, 1), dtype=float)\n",
    "\n",
    "    for i in range(count_pontos):\n",
    "        pontos = dataframe[i]\n",
    "        X[i][1:] = pontos[:count_features]\n",
    "        Y[i] = pontos[count_features]\n",
    "\n",
    "    result0 = np.dot(X.T, X)\n",
    "    result0 = np.linalg.inv(result0)\n",
    "    result1 = np.dot(X.T, Y)\n",
    "    result = np.dot(result0, result1)\n",
    "    return result"
   ]
  },
  {
   "cell_type": "markdown",
   "metadata": {},
   "source": [
    "2. Implemente o RSS, RSE e SE dos coeficientes que foram definidos nos slides 51 e 53 da aula 5."
   ]
  },
  {
   "cell_type": "code",
   "execution_count": 4,
   "metadata": {},
   "outputs": [],
   "source": [
    "def MyLinearRegression(dataframe: np.ndarray[np.ndarray[float]]):\n",
    "    count_pontos = len(dataframe) # Pontos que devem ser melhor ajustados ao modelo\n",
    "    count_features = len(dataframe[0]) - 1 # Último elemento é o y\n",
    "    \n",
    "    X = np.ones(shape=(count_pontos, count_features + 1))\n",
    "    Y = np.zeros(shape=(count_pontos, 1), dtype=float)\n",
    "\n",
    "    for i in range(count_pontos):\n",
    "        pontos = dataframe[i]\n",
    "        X[i][1:] = pontos[:count_features]\n",
    "        Y[i] = pontos[count_features]\n",
    "\n",
    "    result0 = np.dot(X.T, X)\n",
    "    result0 = np.linalg.inv(result0)\n",
    "    result1 = np.dot(X.T, Y)\n",
    "    result = np.dot(result0, result1)\n",
    "\n",
    "    rss = 0\n",
    "    for i in range(count_pontos):\n",
    "        y_real = Y[i]\n",
    "        #y_estimado = result[0] + result[1] * X[i][1]\n",
    "        y_estimado = 0\n",
    "        y_estimado += result[0]\n",
    "\n",
    "        for j in range(1, count_features + 1):\n",
    "            y_estimado += result[j] * X[i][j]\n",
    "\n",
    "        rss += math.pow(y_real[0] - y_estimado[0], 2)\n",
    "    \n",
    "    rse = math.sqrt(rss / (count_pontos - 2))\n",
    "\n",
    "    return [result, rss, rse]"
   ]
  },
  {
   "cell_type": "markdown",
   "metadata": {},
   "source": [
    "3. Teste sua implementação nos exemplos apresentados nos slides 15 e 25 da aula 5. Devem ser apresentados: os coeficientes obtidos, RSS, RSE, intervalos de confiança para os coeficientes, e no caso de uma regressão linear simples (com somente 1 atributo de entrada), um gráfico com os pontos (atributo de entrada,atributo de saída) e a reta obtida pela regressão linear."
   ]
  },
  {
   "cell_type": "code",
   "execution_count": 9,
   "metadata": {},
   "outputs": [
    {
     "name": "stdout",
     "output_type": "stream",
     "text": [
      "Coeficientes: \n",
      "[[-0.0889236]\n",
      " [ 1.9753966]]\n",
      "\n",
      "Residual sum of squares: \n",
      "193.10387739177318\n",
      "\n",
      "Residual Standard Error: \n",
      "4.91304230329555\n"
     ]
    },
    {
     "data": {
      "image/png": "[encoded data removed]",
      "text/plain": [
       "<Figure size 640x480 with 1 Axes>"
      ]
     },
     "metadata": {},
     "output_type": "display_data"
    }
   ],
   "source": [
    "# Exemplo do Aula 5 - Slide 15\n",
    "teste = np.array([\n",
    "    [95.724162408, 197.179636092],\n",
    "    [35.7576189281, 67.5906695414],\n",
    "    [28.8168474238, 60.8541328206],\n",
    "    [99.9584813087, 196.907396981],\n",
    "    [66.8097483121, 125.311128524],\n",
    "    [58.2156926413, 115.785784589],\n",
    "    [53.8210763379, 110.762772705],\n",
    "    [81.2960821704, 157.98528569],\n",
    "    [80.6486970595, 159.61941373],\n",
    "    [78.2528136925, 149.003865539],\n",
    "])\n",
    "\n",
    "X = []\n",
    "y_real = []\n",
    "for x, y in teste:\n",
    "    X.append(x)\n",
    "    y_real.append(y)\n",
    "\n",
    "result, rss, rse = MyLinearRegression(teste)\n",
    "\n",
    "print(\"Coeficientes: \")\n",
    "print(result)\n",
    "\n",
    "print(\"\\nResidual sum of squares: \")\n",
    "print(rss)\n",
    "\n",
    "print(\"\\nResidual Standard Error: \")\n",
    "print(rse)\n",
    "\n",
    "y_previsto = []\n",
    "for x, y in teste:\n",
    "    y_til = result[0] + result[1] * x\n",
    "    y_previsto.append(y_til[0])\n",
    "plt.plot(X, y_real, 'ro', X, y_previsto)\n",
    "plt.show()"
   ]
  },
  {
   "cell_type": "code",
   "execution_count": 6,
   "metadata": {},
   "outputs": [
    {
     "name": "stdout",
     "output_type": "stream",
     "text": [
      "Coeficientes: \n",
      "[[-0.50874313]\n",
      " [ 0.51060702]\n",
      " [ 0.30584258]]\n",
      "\n",
      "Residual sum of squares: \n",
      "0.305205759813808\n",
      "\n",
      "Residual Standard Error: \n",
      "0.31895964207289507\n"
     ]
    }
   ],
   "source": [
    "# Exemplo do Aula 5 - Slide 25\n",
    "teste = np.array([\n",
    "    [1.4, 0.9, 0.7],\n",
    "    [2.6, 1.8, 1.3],\n",
    "    [3.7, 3.5, 2.0],\n",
    "    [5.5, 3.9, 3.6],\n",
    "    [4.9, 5.6, 3.9],\n",
    "])\n",
    "\n",
    "result, rss, rse = MyLinearRegression(teste)\n",
    "\n",
    "print(\"Coeficientes: \")\n",
    "print(result)\n",
    "\n",
    "print(\"\\nResidual sum of squares: \")\n",
    "print(rss)\n",
    "\n",
    "print(\"\\nResidual Standard Error: \")\n",
    "print(rse)"
   ]
  },
  {
   "cell_type": "markdown",
   "metadata": {},
   "source": [
    "4. Compare os coeficientes obtidos pela sua implementação com o resultado gerado pelo método LinearRegression so scikit (https://scikit-learn.org/stable/modules/generated/sklearn.linear_model.LinearRegression.html). \n"
   ]
  },
  {
   "cell_type": "code",
   "execution_count": 7,
   "metadata": {},
   "outputs": [],
   "source": [
    "from sklearn.linear_model import LinearRegression"
   ]
  },
  {
   "cell_type": "code",
   "execution_count": 16,
   "metadata": {},
   "outputs": [
    {
     "name": "stdout",
     "output_type": "stream",
     "text": [
      "Coeficientes: \n",
      "[-0.0889236] [[1.9753966]]\n"
     ]
    }
   ],
   "source": [
    "teste = np.array([\n",
    "    [95.724162408, 197.179636092],\n",
    "    [35.7576189281, 67.5906695414],\n",
    "    [28.8168474238, 60.8541328206],\n",
    "    [99.9584813087, 196.907396981],\n",
    "    [66.8097483121, 125.311128524],\n",
    "    [58.2156926413, 115.785784589],\n",
    "    [53.8210763379, 110.762772705],\n",
    "    [81.2960821704, 157.98528569],\n",
    "    [80.6486970595, 159.61941373],\n",
    "    [78.2528136925, 149.003865539],\n",
    "])\n",
    "\n",
    "X = []\n",
    "y_real = []\n",
    "for x, y in teste:\n",
    "    X.append([x])\n",
    "    y_real.append([y])\n",
    "\n",
    "reg = LinearRegression().fit(X, y_real)\n",
    "\n",
    "print(\"Coeficientes: \")\n",
    "print(reg.intercept_, reg.coef_)"
   ]
  },
  {
   "cell_type": "markdown",
   "metadata": {},
   "source": [
    "Resultados foram iguais"
   ]
  },
  {
   "cell_type": "markdown",
   "metadata": {},
   "source": [
    "5. Utilize a sua implementação e a do scikit no dataset exercicio1.csv. O que ocorreu? Por que?"
   ]
  },
  {
   "cell_type": "code",
   "execution_count": null,
   "metadata": {},
   "outputs": [],
   "source": []
  }
 ],
 "metadata": {
  "kernelspec": {
   "display_name": "Python 3",
   "language": "python",
   "name": "python3"
  },
  "language_info": {
   "codemirror_mode": {
    "name": "ipython",
    "version": 3
   },
   "file_extension": ".py",
   "mimetype": "text/x-python",
   "name": "python",
   "nbconvert_exporter": "python",
   "pygments_lexer": "ipython3",
   "version": "3.11.1"
  },
  "orig_nbformat": 4
 },
 "nbformat": 4,
 "nbformat_minor": 2
}
