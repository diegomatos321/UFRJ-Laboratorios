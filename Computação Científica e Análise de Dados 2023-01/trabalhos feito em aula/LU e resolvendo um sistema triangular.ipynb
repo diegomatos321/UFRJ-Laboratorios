{
 "cells": [
  {
   "cell_type": "code",
   "execution_count": 5,
   "metadata": {},
   "outputs": [],
   "source": [
    "using LinearAlgebra"
   ]
  },
  {
   "cell_type": "code",
   "execution_count": 13,
   "metadata": {},
   "outputs": [
    {
     "data": {
      "text/plain": [
       "LU (generic function with 1 method)"
      ]
     },
     "execution_count": 13,
     "metadata": {},
     "output_type": "execute_result"
    }
   ],
   "source": [
    "function LU(A) #vamos A é quadrada nxn\n",
    "    n,n=size(A)\n",
    "    L=zeros(n,n)\n",
    "    U=zeros(n,n)\n",
    "    for i=1:n\n",
    "        pivô=A[i,i]\n",
    "        linha=A[i,:]\n",
    "        coluna=(1/pivô)*A[:,i]\n",
    "        L[:,i]=coluna\n",
    "        U[i,:]=linha\n",
    "        A=A-coluna*linha'\n",
    "    end\n",
    "    return L,U\n",
    "end"
   ]
  },
  {
   "cell_type": "code",
   "execution_count": 11,
   "metadata": {},
   "outputs": [
    {
     "data": {
      "text/plain": [
       "subs_reversa (generic function with 1 method)"
      ]
     },
     "execution_count": 11,
     "metadata": {},
     "output_type": "execute_result"
    }
   ],
   "source": [
    "function subs_reversa(U,b) \n",
    "    #U é uma matriz triangular superior 3x3 com elementos na diagonal diferentes de zero\n",
    "    #e b é um vetor 3x1\n",
    "    x=zeros(3,1)\n",
    "    x[3]=b[3]/U[3,3]\n",
    "    x[2]=(b[2]-U[2,3]*x[3])/U[2,2]\n",
    "    x[1]=(b[1]-(U[1,2]*x[2]+U[1,3]*x[3]))/U[1,1]\n",
    "    #CASA: Generalize o código para nxn\n",
    "    return x # é um vetor 3x1 \n",
    "end"
   ]
  },
  {
   "cell_type": "code",
   "execution_count": 6,
   "metadata": {},
   "outputs": [
    {
     "data": {
      "text/plain": [
       "3×3 Matrix{Int64}:\n",
       " 3  1  2\n",
       " 0  1  1\n",
       " 0  0  5"
      ]
     },
     "execution_count": 6,
     "metadata": {},
     "output_type": "execute_result"
    }
   ],
   "source": [
    "U=[3 1 2;0 1 1;0 0 5]"
   ]
  },
  {
   "cell_type": "code",
   "execution_count": 8,
   "metadata": {
    "scrolled": true
   },
   "outputs": [
    {
     "data": {
      "text/plain": [
       "3-element Vector{Int64}:\n",
       " 6\n",
       " 2\n",
       " 5"
      ]
     },
     "execution_count": 8,
     "metadata": {},
     "output_type": "execute_result"
    }
   ],
   "source": [
    "b=[6;2;5]"
   ]
  },
  {
   "cell_type": "code",
   "execution_count": 18,
   "metadata": {},
   "outputs": [
    {
     "data": {
      "text/plain": [
       "0.0"
      ]
     },
     "execution_count": 18,
     "metadata": {},
     "output_type": "execute_result"
    }
   ],
   "source": [
    "x=subs_reversa(U,b)\n",
    "norm(U*x-b)"
   ]
  },
  {
   "cell_type": "code",
   "execution_count": 55,
   "metadata": {
    "scrolled": false
   },
   "outputs": [
    {
     "data": {
      "text/plain": [
       "true"
      ]
     },
     "execution_count": 55,
     "metadata": {},
     "output_type": "execute_result"
    }
   ],
   "source": [
    "#Teste completo\n",
    "A=randn(3,3)\n",
    "b=randn(3,1)\n",
    "L,U=LU(A)\n",
    "x=subs_reversa(U,b)\n",
    "norm(U*x-b)<0.0000000000001"
   ]
  },
  {
   "cell_type": "code",
   "execution_count": null,
   "metadata": {},
   "outputs": [],
   "source": [
    "function subs_direta(L,b)\n",
    "    ####CASA\n",
    "    \n",
    "    return x\n",
    "end"
   ]
  },
  {
   "cell_type": "code",
   "execution_count": null,
   "metadata": {},
   "outputs": [],
   "source": [
    "function resolve_sistema(A,b)\n",
    "#A é uma matriz  3x3 com elementos     #eb é um vetor 3x1\n",
    "    L,U=LU(A)\n",
    "    y=subs_direta(L,b)\n",
    "    x=subs_reversa(U,y)\n",
    "    return x\n",
    "end"
   ]
  }
 ],
 "metadata": {
  "kernelspec": {
   "display_name": "Julia 1.8.5",
   "language": "julia",
   "name": "julia-1.8"
  },
  "language_info": {
   "file_extension": ".jl",
   "mimetype": "application/julia",
   "name": "julia",
   "version": "1.8.5"
  }
 },
 "nbformat": 4,
 "nbformat_minor": 4
}
