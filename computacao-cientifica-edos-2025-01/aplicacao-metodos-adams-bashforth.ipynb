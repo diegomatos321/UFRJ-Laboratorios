{
 "cells": [
  {
   "cell_type": "markdown",
   "id": "8bdc0956",
   "metadata": {},
   "source": [
    "# Aplicação dos métodos de Adams-Bashforth e Adams-Moulton\n",
    "Comp. Cientif. com EDOs 2025.1\n",
    "\n",
    "Aluno: Diego Vasconcelos Schardosim de Matos\n",
    "DRE: 120098723"
   ]
  },
  {
   "cell_type": "markdown",
   "id": "4265de66",
   "metadata": {},
   "source": [
    "## Questão 1)"
   ]
  },
  {
   "cell_type": "code",
   "execution_count": 28,
   "id": "50e0f32a",
   "metadata": {},
   "outputs": [],
   "source": [
    "import numpy as np"
   ]
  },
  {
   "cell_type": "code",
   "execution_count": 29,
   "id": "44f3b197",
   "metadata": {},
   "outputs": [],
   "source": [
    "def runge_kutta_classic_method(f, t0, y0, tf, n):\n",
    "    \"\"\"\n",
    "    Solve the ODE dy/dx = f(x, y) using runge kutta classic method.\n",
    "    Parameters:\n",
    "    f : callable\n",
    "        The function representing the ODE dy/dx = f(x, y).\n",
    "    t0 : float\n",
    "        The initial value of time.\n",
    "    y0 : float\n",
    "        The initial value of y.\n",
    "    tf : float\n",
    "        The final value of time.\n",
    "    n : int\n",
    "        The number of steps to take from t0 to tf.\n",
    "    Returns:\n",
    "    results : list\n",
    "        The array of tuples values.\n",
    "    \"\"\"\n",
    "\n",
    "    delta = (tf - t0) / n\n",
    "    i = 0\n",
    "    t_results = [t0]\n",
    "    y_results = [y0]\n",
    "    \n",
    "    while i < n:\n",
    "        k1 = delta * f(t0, y0)\n",
    "        k2 = delta * f(t0 + delta/2, y0 + k1/2)\n",
    "        k3 = delta * f(t0 + delta/2, y0 + k2/2)\n",
    "        k4 = delta * f(t0 + delta, y0 + k3)\n",
    "\n",
    "        yn = y0 + 1/6 * (k1 + 2*k2 + 2*k3 + k4)\n",
    "\n",
    "        t0 = t0 + delta\n",
    "        y0 = yn\n",
    "        i += 1\n",
    "\n",
    "        t_results.append(t0)\n",
    "        y_results.append(yn)\n",
    "\n",
    "    return t_results, np.array(y_results)"
   ]
  },
  {
   "cell_type": "code",
   "execution_count": 30,
   "id": "7a1db1b5",
   "metadata": {},
   "outputs": [],
   "source": [
    "def ab2_method(f, t0, y0, tf, n):\n",
    "    h = (tf - t0) / n\n",
    "    t_results = []\n",
    "    y_results = []\n",
    "\n",
    "    # First step using Runge-Kutta method\n",
    "    t_rk, y_rk = runge_kutta_classic_method(f, t0, y0, t0 + h, 1)\n",
    "    t_results.extend(t_rk)\n",
    "    y_results.extend(y_rk)\n",
    "\n",
    "    # Second step using AB2 method\n",
    "    for i in range(1, n):\n",
    "        t_i = t_results[i]\n",
    "        y_i = y_results[i]\n",
    "\n",
    "        K1 = f(t_i, y_i)\n",
    "        K2 = f(t_results[i-1], y_results[i-1])\n",
    "\n",
    "        yn = y_i + h/2 * (3 * K1 - K2)\n",
    "\n",
    "        t_results.append(t_i + h)\n",
    "        y_results.append(yn)\n",
    "    \n",
    "    return t_results, np.array(y_results)"
   ]
  },
  {
   "cell_type": "code",
   "execution_count": 31,
   "id": "0a2a753d",
   "metadata": {},
   "outputs": [
    {
     "name": "stdout",
     "output_type": "stream",
     "text": [
      "[1000.         1004.00801068 1008.03205874 1012.07223507 1016.12860437\n",
      " 1020.20123152 1024.2901817  1028.39552033 1032.51731309 1036.65562593\n",
      " 1040.81052505]\n"
     ]
    }
   ],
   "source": [
    "f = lambda t, y: 0.04*y\n",
    "t_results, y_results = ab2_method(f, 0, 1000, 1, 10)\n",
    "print(y_results)"
   ]
  },
  {
   "cell_type": "code",
   "execution_count": 32,
   "id": "ba3d8b96",
   "metadata": {},
   "outputs": [],
   "source": [
    "def ab3_method(f, t0, y0, tf, n):\n",
    "    h = (tf - t0) / n\n",
    "    t_results = []\n",
    "    y_results = []\n",
    "\n",
    "    # First step using Runge-Kutta method\n",
    "    t_rk, y_rk = runge_kutta_classic_method(f, t0, y0, t0 + 2*h, 2)\n",
    "    t_results.extend(t_rk)\n",
    "    y_results.extend(y_rk)\n",
    "\n",
    "    # Adams-Bashforth 3 a partir de i = 2\n",
    "    for i in range(2, n):\n",
    "        t_i = t_results[i]\n",
    "        y_i = y_results[i]\n",
    "\n",
    "        K1 = f(t_i, y_i)\n",
    "        K2 = f(t_results[i - 1], y_results[i - 1])\n",
    "        K3 = f(t_results[i - 2], y_results[i - 2])\n",
    "\n",
    "        yn = y_i + h/12 * (23*K1 - 16*K2 + 5*K3)\n",
    "\n",
    "        t_results.append(t_i + h)\n",
    "        y_results.append(yn)\n",
    "    \n",
    "    return np.array(t_results), np.array(y_results)"
   ]
  },
  {
   "cell_type": "code",
   "execution_count": 33,
   "id": "1e53609d",
   "metadata": {},
   "outputs": [
    {
     "name": "stdout",
     "output_type": "stream",
     "text": [
      "[1000.         1004.00801068 1008.0320855  1012.07228877 1016.12868521\n",
      " 1020.20133973 1024.2903175  1028.39568393 1032.51750471 1036.6558458\n",
      " 1040.8107734 ]\n"
     ]
    }
   ],
   "source": [
    "f = lambda t, y: 0.04*y\n",
    "t_results, y_results = ab3_method(f, 0, 1000, 1, 10)\n",
    "print(y_results)"
   ]
  },
  {
   "cell_type": "code",
   "execution_count": 34,
   "id": "4466be94",
   "metadata": {},
   "outputs": [],
   "source": [
    "def ab4_method(f, t0, y0, tf, n):\n",
    "    h = (tf - t0) / n\n",
    "    t_results = []\n",
    "    y_results = []\n",
    "\n",
    "    # First step using Runge-Kutta method\n",
    "    t_rk, y_rk = runge_kutta_classic_method(f, t0, y0, t0 + 3*h, 3)\n",
    "    t_results.extend(t_rk)\n",
    "    y_results.extend(y_rk)\n",
    "\n",
    "    # Second step using AB4 method\n",
    "    for i in range(3, n):\n",
    "        t_i = t_results[i]\n",
    "        y_i = y_results[i]\n",
    "\n",
    "        K1 = f(t_i, y_i)\n",
    "        K2 = f(t_results[i-1], y_results[i-1])\n",
    "        K3 = f(t_results[i-2], y_results[i-2])\n",
    "        K4 = f(t_results[i-3], y_results[i-3])\n",
    "\n",
    "        yn = y_i + h/24 * (55*K1 - 59*K2 + 37*K3 - 9*K4)\n",
    "\n",
    "        t_results.append(t_i + h)\n",
    "        y_results.append(yn)\n",
    "    \n",
    "    return t_results, np.array(y_results)"
   ]
  },
  {
   "cell_type": "code",
   "execution_count": 35,
   "id": "b81b67e9",
   "metadata": {},
   "outputs": [
    {
     "name": "stdout",
     "output_type": "stream",
     "text": [
      "[1000.         1004.00801068 1008.0320855  1012.07228887 1016.12868541\n",
      " 1020.20134003 1024.29031789 1028.39568442 1032.5175053  1036.65584649\n",
      " 1040.81077419]\n"
     ]
    }
   ],
   "source": [
    "f = lambda t, y: 0.04*y\n",
    "t_results, y_results = ab4_method(f, 0, 1000, 1, 10)\n",
    "print(y_results)"
   ]
  },
  {
   "cell_type": "markdown",
   "id": "65b0c249",
   "metadata": {},
   "source": [
    "## Questão 2)"
   ]
  },
  {
   "cell_type": "code",
   "execution_count": 36,
   "id": "71861065",
   "metadata": {},
   "outputs": [],
   "source": [
    "import matplotlib.pyplot as plt"
   ]
  },
  {
   "cell_type": "code",
   "execution_count": 37,
   "id": "09ea71c6",
   "metadata": {},
   "outputs": [],
   "source": [
    "def runge_kutta_ralston_method(f, t0, y0, tf, n):\n",
    "    \"\"\"\n",
    "    Solve the ODE dy/dx = f(x, y) using ralston method.\n",
    "    Parameters:\n",
    "    f : callable\n",
    "        The function representing the ODE dy/dx = f(x, y).\n",
    "    t0 : float\n",
    "        The initial value of time.\n",
    "    y0 : float\n",
    "        The initial value of y.\n",
    "    tf : float\n",
    "        The final value of time.\n",
    "    n : int\n",
    "        The number of steps to take from t0 to tf.\n",
    "    Returns:\n",
    "    results : list\n",
    "        The array of tuples values.\n",
    "    \"\"\"\n",
    "\n",
    "    delta = (tf - t0) / n\n",
    "    i = 0\n",
    "    t_results = [t0]\n",
    "    y_results = [y0]\n",
    "    \n",
    "    while i < n:\n",
    "        k1 = delta* f(t0, y0)\n",
    "        k2 = delta* f(t0 + delta/2, y0 + k1/2)\n",
    "        k3 = delta* f(t0 + 3/4*delta, y0 + 3/4*k2)\n",
    "\n",
    "        yn = y0 + 1/9 * (2*k1 + 3*k2 + 4*k3)\n",
    "\n",
    "        t0 = t0 + delta\n",
    "        y0 = yn\n",
    "        i += 1\n",
    "\n",
    "        t_results.append(t0)\n",
    "        y_results.append(yn)\n",
    "\n",
    "    return t_results, np.array(y_results)"
   ]
  },
  {
   "cell_type": "code",
   "execution_count": 42,
   "id": "d448bb31",
   "metadata": {},
   "outputs": [
    {
     "name": "stderr",
     "output_type": "stream",
     "text": [
      "C:\\Users\\diego\\AppData\\Local\\Temp\\ipykernel_17388\\3020451205.py:3: RuntimeWarning: overflow encountered in scalar multiply\n",
      "  dy1 = -0.04*y1 + 1e4*y2*y3\n",
      "C:\\Users\\diego\\AppData\\Local\\Temp\\ipykernel_17388\\3020451205.py:4: RuntimeWarning: overflow encountered in scalar multiply\n",
      "  dy2 = 0.04*y1 - 1e4*y2*y3 - 3e7*y2**2\n",
      "C:\\Users\\diego\\AppData\\Local\\Temp\\ipykernel_17388\\3020451205.py:4: RuntimeWarning: overflow encountered in scalar power\n",
      "  dy2 = 0.04*y1 - 1e4*y2*y3 - 3e7*y2**2\n",
      "C:\\Users\\diego\\AppData\\Local\\Temp\\ipykernel_17388\\3020451205.py:4: RuntimeWarning: invalid value encountered in scalar subtract\n",
      "  dy2 = 0.04*y1 - 1e4*y2*y3 - 3e7*y2**2\n",
      "C:\\Users\\diego\\AppData\\Local\\Temp\\ipykernel_17388\\3020451205.py:5: RuntimeWarning: overflow encountered in scalar power\n",
      "  dy3 = 3e7*y2**2\n",
      "C:\\Users\\diego\\AppData\\Local\\Temp\\ipykernel_17388\\3020451205.py:5: RuntimeWarning: overflow encountered in scalar multiply\n",
      "  dy3 = 3e7*y2**2\n",
      "C:\\Users\\diego\\AppData\\Local\\Temp\\ipykernel_17388\\4100112725.py:20: RuntimeWarning: invalid value encountered in subtract\n",
      "  yn = y_i + h/12 * (23*K1 - 16*K2 + 5*K3)\n",
      "C:\\Users\\diego\\AppData\\Local\\Temp\\ipykernel_17388\\1387703441.py:19: RuntimeWarning: overflow encountered in multiply\n",
      "  yn = y_i + h/2 * (3 * K1 - K2)\n",
      "C:\\Users\\diego\\AppData\\Local\\Temp\\ipykernel_17388\\3020451205.py:22: RuntimeWarning: invalid value encountered in subtract\n",
      "  errors_rk3.append(np.abs(y_ab4 - y_rk3).mean())\n",
      "C:\\Users\\diego\\AppData\\Local\\Temp\\ipykernel_17388\\3020451205.py:23: RuntimeWarning: invalid value encountered in subtract\n",
      "  errors_rk4.append(np.abs(y_ab4 - y_rk4).mean())\n",
      "C:\\Users\\diego\\AppData\\Local\\Temp\\ipykernel_17388\\3020451205.py:21: RuntimeWarning: invalid value encountered in subtract\n",
      "  errors_ab3.append(np.abs(y_ab4 - y_ab3).mean())\n",
      "C:\\Users\\diego\\AppData\\Local\\Temp\\ipykernel_17388\\3157360143.py:21: RuntimeWarning: overflow encountered in multiply\n",
      "  yn = y_i + h/24 * (55*K1 - 59*K2 + 37*K3 - 9*K4)\n",
      "C:\\Users\\diego\\AppData\\Local\\Temp\\ipykernel_17388\\3020451205.py:3: RuntimeWarning: invalid value encountered in scalar add\n",
      "  dy1 = -0.04*y1 + 1e4*y2*y3\n"
     ]
    }
   ],
   "source": [
    "def f(t, y):\n",
    "    y1, y2, y3 = y\n",
    "    dy1 = -0.04*y1 + 1e4*y2*y3\n",
    "    dy2 = 0.04*y1 - 1e4*y2*y3 - 3e7*y2**2\n",
    "    dy3 = 3e7*y2**2\n",
    "    return np.array([dy1, dy2, dy3])\n",
    "\n",
    "steps = np.arange(100, 1000, 10)\n",
    "errors_rk3 = []\n",
    "errors_rk4 = []\n",
    "errors_ab2 = []\n",
    "errors_ab3 = []\n",
    "for step in steps:\n",
    "    t_rk3, y_rk3 = runge_kutta_ralston_method(f, 0, np.array([1, 0, 0]), 2, step)\n",
    "    t_rk4, y_rk4 = runge_kutta_ralston_method(f, 0, np.array([1, 0, 0]), 2, step)\n",
    "    t_ab2, y_ab2 = ab2_method(f, 0, np.array([1, 0, 0]), 2, step)\n",
    "    t_ab3, y_ab3 = ab3_method(f, 0, np.array([1, 0, 0]), 2, step)\n",
    "    t_ab4, y_ab4 = ab4_method(f, 0, np.array([1, 0, 0]), 2, step)\n",
    "\n",
    "    errors_ab2.append(np.abs(y_ab4 - y_ab2).mean())\n",
    "    errors_ab3.append(np.abs(y_ab4 - y_ab3).mean())\n",
    "    errors_rk3.append(np.abs(y_ab4 - y_rk3).mean())\n",
    "    errors_rk4.append(np.abs(y_ab4 - y_rk4).mean())"
   ]
  },
  {
   "cell_type": "code",
   "execution_count": 43,
   "id": "2c4f289b",
   "metadata": {},
   "outputs": [
    {
     "name": "stdout",
     "output_type": "stream",
     "text": [
      "[100 110 120 130 140 150 160 170 180 190 200 210 220 230 240 250 260 270\n",
      " 280 290 300 310 320 330 340 350 360 370 380 390 400 410 420 430 440 450\n",
      " 460 470 480 490 500 510 520 530 540 550 560 570 580 590 600 610 620 630\n",
      " 640 650 660 670 680 690 700 710 720 730 740 750 760 770 780 790 800 810\n",
      " 820 830 840 850 860 870 880 890 900 910 920 930 940 950 960 970 980 990]\n"
     ]
    }
   ],
   "source": [
    "print(steps)"
   ]
  },
  {
   "cell_type": "code",
   "execution_count": 44,
   "id": "5f3e793d",
   "metadata": {},
   "outputs": [
    {
     "data": {
      "image/png": "[encoded data removed]",
      "text/plain": [
       "<Figure size 1500x800 with 1 Axes>"
      ]
     },
     "metadata": {},
     "output_type": "display_data"
    }
   ],
   "source": [
    "# Plotagem\n",
    "plt.figure(figsize=(15, 8))\n",
    "methods = {\n",
    "    \"AB4 vs RK3\": errors_rk3,\n",
    "    \"AB4 vs RK4\": errors_rk4,\n",
    "    \"AB4 vs AB2\": errors_ab2,\n",
    "    \"AB4 vs AB3\": errors_ab3,\n",
    "}\n",
    "\n",
    "for name, y in methods.items():\n",
    "    plt.plot(steps, y, label=name)\n",
    "    plt.title(name)\n",
    "    plt.legend()\n",
    "    plt.grid()\n",
    "\n",
    "plt.tight_layout()\n",
    "plt.show()"
   ]
  },
  {
   "cell_type": "code",
   "execution_count": null,
   "id": "b1d5cb8d",
   "metadata": {},
   "outputs": [],
   "source": []
  }
 ],
 "metadata": {
  "kernelspec": {
   "display_name": "venv",
   "language": "python",
   "name": "python3"
  },
  "language_info": {
   "codemirror_mode": {
    "name": "ipython",
    "version": 3
   },
   "file_extension": ".py",
   "mimetype": "text/x-python",
   "name": "python",
   "nbconvert_exporter": "python",
   "pygments_lexer": "ipython3",
   "version": "3.12.10"
  }
 },
 "nbformat": 4,
 "nbformat_minor": 5
}
