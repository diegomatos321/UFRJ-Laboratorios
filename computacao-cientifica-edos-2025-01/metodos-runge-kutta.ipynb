{
 "cells": [
  {
   "cell_type": "markdown",
   "id": "5d14f6ec",
   "metadata": {},
   "source": [
    "## Questão 1)"
   ]
  },
  {
   "cell_type": "code",
   "execution_count": 1,
   "id": "2a14c9e1",
   "metadata": {},
   "outputs": [],
   "source": [
    "import numpy as np"
   ]
  },
  {
   "cell_type": "code",
   "execution_count": 2,
   "id": "fee76e4b",
   "metadata": {},
   "outputs": [],
   "source": [
    "def euler_method(f, t0, y0, tf, n):\n",
    "    \"\"\"\n",
    "    Solve the ODE dy/dx = f(x, y) using Euler's method.\n",
    "    Parameters:\n",
    "    f : callable\n",
    "        The function representing the ODE dy/dx = f(x, y).\n",
    "    t0 : float\n",
    "        The initial value of time.\n",
    "    y0 : float\n",
    "        The initial value of y.\n",
    "    tf : float\n",
    "        The final value of time.\n",
    "    n : int\n",
    "        The number of steps to take from t0 to tf.\n",
    "    Returns:\n",
    "    results : list\n",
    "        The array of tuples values.\n",
    "    \"\"\"\n",
    "\n",
    "    delta = (tf - t0) / n\n",
    "    i = 0\n",
    "    results = [(t0, y0)]\n",
    "    \n",
    "    while i < n:\n",
    "        tn = t0 + i * delta\n",
    "        tmp_f = f(tn, y0)\n",
    "        yn = y0 + delta * tmp_f\n",
    "        results.append((tn, yn))\n",
    "        y0 = yn\n",
    "        i += 1\n",
    "\n",
    "    return results"
   ]
  },
  {
   "cell_type": "code",
   "execution_count": 3,
   "id": "81d70bdb",
   "metadata": {},
   "outputs": [
    {
     "name": "stdout",
     "output_type": "stream",
     "text": [
      "[(0, 1000), (0.0, 1040.0)]\n"
     ]
    }
   ],
   "source": [
    "def func(x,y):\n",
    "    return 0.04*y\n",
    "\n",
    "result = euler_method(func, 0, 1000, 1, 1)\n",
    "print(result)"
   ]
  },
  {
   "cell_type": "code",
   "execution_count": 4,
   "id": "f6e88d8d",
   "metadata": {},
   "outputs": [],
   "source": [
    "def improved_euler_method(f, t0, y0, tf, n):\n",
    "    \"\"\"\n",
    "    Solve the ODE dy/dx = f(x, y) using improved Euler's method.\n",
    "    Parameters:\n",
    "    f : callable\n",
    "        The function representing the ODE dy/dx = f(x, y).\n",
    "    t0 : float\n",
    "        The initial value of time.\n",
    "    y0 : float\n",
    "        The initial value of y.\n",
    "    tf : float\n",
    "        The final value of time.\n",
    "    n : int\n",
    "        The number of steps to take from t0 to tf.\n",
    "    Returns:\n",
    "    results : list\n",
    "        The array of tuples values.\n",
    "    \"\"\"\n",
    "\n",
    "    delta = (tf - t0) / n\n",
    "    i = 0\n",
    "    results = [(t0, y0)]\n",
    "    \n",
    "    while i < n:\n",
    "        k1 = f(t0, y0)\n",
    "        k2 = f(t0 + delta, y0 + k1)\n",
    "        yn = y0 + (delta / 2) * (k1 + k2)\n",
    "\n",
    "        t0 = t0 + delta\n",
    "        y0 = yn\n",
    "        i += 1\n",
    "\n",
    "        results.append((t0, yn))\n",
    "\n",
    "    return results"
   ]
  },
  {
   "cell_type": "code",
   "execution_count": 5,
   "id": "b53f1628",
   "metadata": {},
   "outputs": [
    {
     "name": "stdout",
     "output_type": "stream",
     "text": [
      "[(0, 1000), (1.0, 1040.8)]\n"
     ]
    }
   ],
   "source": [
    "def func(x,y):\n",
    "    return 0.04*y\n",
    "\n",
    "result = improved_euler_method(func, 0, 1000, 1, 1)\n",
    "print(result)"
   ]
  },
  {
   "cell_type": "code",
   "execution_count": null,
   "id": "876b5325",
   "metadata": {},
   "outputs": [],
   "source": [
    "def runge_kutta_ralston_method(f, t0, y0, tf, n):\n",
    "    \"\"\"\n",
    "    Solve the ODE dy/dx = f(x, y) using ralston method.\n",
    "    Parameters:\n",
    "    f : callable\n",
    "        The function representing the ODE dy/dx = f(x, y).\n",
    "    t0 : float\n",
    "        The initial value of time.\n",
    "    y0 : float\n",
    "        The initial value of y.\n",
    "    tf : float\n",
    "        The final value of time.\n",
    "    n : int\n",
    "        The number of steps to take from t0 to tf.\n",
    "    Returns:\n",
    "    results : list\n",
    "        The array of tuples values.\n",
    "    \"\"\"\n",
    "\n",
    "    delta = (tf - t0) / n\n",
    "    i = 0\n",
    "    results = [(t0, y0)]\n",
    "    \n",
    "    while i < n:\n",
    "        k1 = f(t0, y0)\n",
    "        k2 = f(t0 + delta/2, y0 + k1/2)\n",
    "        k3 = f(t0 + 3/4*delta, y0 + 3/4*k2)\n",
    "\n",
    "        yn = y0 + (delta / 9) * (2*k1 + 3*k2 + 4*k3)\n",
    "\n",
    "        t0 = t0 + delta\n",
    "        y0 = yn\n",
    "        i += 1\n",
    "\n",
    "        results.append((t0, yn))\n",
    "\n",
    "    return results"
   ]
  },
  {
   "cell_type": "code",
   "execution_count": 7,
   "id": "606d803d",
   "metadata": {},
   "outputs": [
    {
     "name": "stdout",
     "output_type": "stream",
     "text": [
      "[(0, 1000), (1.0, 1040.8)]\n"
     ]
    }
   ],
   "source": [
    "def func(x,y):\n",
    "    return 0.04*y\n",
    "\n",
    "result = improved_euler_method(func, 0, 1000, 1, 1)\n",
    "print(result)"
   ]
  },
  {
   "cell_type": "code",
   "execution_count": 8,
   "id": "fb24ec98",
   "metadata": {},
   "outputs": [],
   "source": [
    "def runge_kutta_classic_method(f, t0, y0, tf, n):\n",
    "    \"\"\"\n",
    "    Solve the ODE dy/dx = f(x, y) using runge kutta classic method.\n",
    "    Parameters:\n",
    "    f : callable\n",
    "        The function representing the ODE dy/dx = f(x, y).\n",
    "    t0 : float\n",
    "        The initial value of time.\n",
    "    y0 : float\n",
    "        The initial value of y.\n",
    "    tf : float\n",
    "        The final value of time.\n",
    "    n : int\n",
    "        The number of steps to take from t0 to tf.\n",
    "    Returns:\n",
    "    results : list\n",
    "        The array of tuples values.\n",
    "    \"\"\"\n",
    "\n",
    "    delta = (tf - t0) / n\n",
    "    i = 0\n",
    "    results = [(t0, y0)]\n",
    "    \n",
    "    while i < n:\n",
    "        k1 = f(t0, y0)\n",
    "        k2 = f(t0 + delta/2, y0 + k1/2)\n",
    "        k3 = f(t0 + delta/2, y0 + k2/2)\n",
    "        k4 = f(t0 + delta, y0 + k3)\n",
    "\n",
    "        yn = y0 + (delta / 6) * (k1 + 2*k2 + 2*k3 + k4)\n",
    "\n",
    "        t0 = t0 + delta\n",
    "        y0 = yn\n",
    "        i += 1\n",
    "\n",
    "        results.append((t0, yn))\n",
    "\n",
    "    return results"
   ]
  },
  {
   "cell_type": "code",
   "execution_count": 9,
   "id": "c31bb60b",
   "metadata": {},
   "outputs": [
    {
     "name": "stdout",
     "output_type": "stream",
     "text": [
      "[(0, 1000), (1.0, 1040.8107733333334)]\n"
     ]
    }
   ],
   "source": [
    "def func(x,y):\n",
    "    return 0.04*y\n",
    "\n",
    "result = runge_kutta_classic_method(func, 0, 1000, 1, 1)\n",
    "print(result)"
   ]
  },
  {
   "cell_type": "markdown",
   "id": "319c8a7d",
   "metadata": {},
   "source": [
    "## Questão 2"
   ]
  },
  {
   "cell_type": "markdown",
   "id": "09c73254",
   "metadata": {},
   "source": [
    "## Letra a)"
   ]
  },
  {
   "cell_type": "code",
   "execution_count": 10,
   "id": "91cd4a93",
   "metadata": {},
   "outputs": [],
   "source": [
    "import matplotlib.pyplot as plt"
   ]
  },
  {
   "cell_type": "code",
   "execution_count": 31,
   "id": "373889b9",
   "metadata": {},
   "outputs": [],
   "source": [
    "mi = 0.3\n",
    "betha = 0.7\n",
    "\n",
    "def f(t, x):\n",
    "    s = x[0]\n",
    "    i = x[1]\n",
    "    N = s + i\n",
    "\n",
    "    ds = mi*N - betha*(s*i)/N - mi * s\n",
    "    di = betha*(s*i)/N - mi*i\n",
    "    return np.array([ds, di])\n",
    "\n",
    "ralston_results = runge_kutta_ralston_method(f, 0, np.array([100, 70]), 40, 100)\n",
    "classic_results = runge_kutta_classic_method(f, 0, np.array([100, 70]), 40, 100)"
   ]
  },
  {
   "cell_type": "code",
   "execution_count": null,
   "id": "cdf0c851",
   "metadata": {},
   "outputs": [
    {
     "data": {
      "image/png": "[encoded data removed]",
      "text/plain": [
       "<Figure size 640x480 with 1 Axes>"
      ]
     },
     "metadata": {},
     "output_type": "display_data"
    }
   ],
   "source": [
    "time = [r[0] for r in ralston_results]\n",
    "results1 = [r[1][0] for r in ralston_results]\n",
    "results2 = [r[1][1] for r in ralston_results]\n",
    "\n",
    "fig, ax = plt.subplots()\n",
    "ax.plot(time, results1)\n",
    "ax.plot(time, results2)\n",
    "plt.show()"
   ]
  },
  {
   "cell_type": "code",
   "execution_count": 34,
   "id": "d4f5cc61",
   "metadata": {},
   "outputs": [
    {
     "data": {
      "image/png": "[encoded data removed]",
      "text/plain": [
       "<Figure size 640x480 with 1 Axes>"
      ]
     },
     "metadata": {},
     "output_type": "display_data"
    }
   ],
   "source": [
    "time = [r[0] for r in classic_results]\n",
    "results1 = [r[1][0] for r in classic_results]\n",
    "results2 = [r[1][1] for r in classic_results]\n",
    "\n",
    "fig, ax = plt.subplots()\n",
    "ax.plot(time, results1)\n",
    "ax.plot(time, results2)\n",
    "plt.show()"
   ]
  },
  {
   "cell_type": "markdown",
   "id": "a24d52e7",
   "metadata": {},
   "source": [
    "## Letra b)"
   ]
  },
  {
   "cell_type": "code",
   "execution_count": 37,
   "id": "2bf4370c",
   "metadata": {},
   "outputs": [],
   "source": [
    "steps = range(200, 1000, 10)\n",
    "errors_r = []\n",
    "errors_c = []\n",
    "for n in steps:\n",
    "    ralston_results = runge_kutta_ralston_method(f, 0, np.array([100, 70]), 40, n)\n",
    "    classic_results = runge_kutta_classic_method(f, 0, np.array([100, 70]), 40, n)\n",
    "\n",
    "    time_r = [r[0] for r in ralston_results]\n",
    "    results1_r = [r[1][0] for r in ralston_results]\n",
    "    results2_r = [r[1][1] for r in ralston_results]\n",
    "\n",
    "    time_c = [r[0] for r in classic_results]\n",
    "    results1_c = [r[1][0] for r in classic_results]\n",
    "    results2_c = [r[1][1] for r in classic_results]\n",
    "\n",
    "    error_r = np.abs(np.array(results1_r) - np.array(results1_c)).max()\n",
    "    error_c = np.abs(np.array(results2_r) - np.array(results2_c)).max()\n",
    "    errors_r.append(error_r)\n",
    "    errors_c.append(error_c)"
   ]
  },
  {
   "cell_type": "code",
   "execution_count": 39,
   "id": "dbe62575",
   "metadata": {},
   "outputs": [
    {
     "name": "stdout",
     "output_type": "stream",
     "text": [
      "0.013795737327583879\n"
     ]
    }
   ],
   "source": [
    "print(error_r)"
   ]
  },
  {
   "cell_type": "code",
   "execution_count": 40,
   "id": "fa7902de",
   "metadata": {},
   "outputs": [
    {
     "data": {
      "image/png": "[encoded data removed]",
      "text/plain": [
       "<Figure size 640x480 with 1 Axes>"
      ]
     },
     "metadata": {},
     "output_type": "display_data"
    }
   ],
   "source": [
    "fig, ax = plt.subplots()\n",
    "ax.plot(steps, errors_r)\n",
    "ax.plot(steps, errors_c)\n",
    "plt.show()"
   ]
  },
  {
   "cell_type": "code",
   "execution_count": null,
   "id": "b5a87131",
   "metadata": {},
   "outputs": [],
   "source": []
  }
 ],
 "metadata": {
  "kernelspec": {
   "display_name": "venv",
   "language": "python",
   "name": "python3"
  },
  "language_info": {
   "codemirror_mode": {
    "name": "ipython",
    "version": 3
   },
   "file_extension": ".py",
   "mimetype": "text/x-python",
   "name": "python",
   "nbconvert_exporter": "python",
   "pygments_lexer": "ipython3",
   "version": "3.13.3"
  }
 },
 "nbformat": 4,
 "nbformat_minor": 5
}
