{
 "cells": [
  {
   "cell_type": "markdown",
   "metadata": {
    "id": "MKOOzr4D9hO_"
   },
   "source": [
    "# Lista 3\n",
    "### NCG-040 - Introdução à Visão Computacional\n",
    "\n",
    "**Instruções:**\n",
    "\n",
    " 1. Comentários nos códigos desenvolvidos.\n",
    " 1. Caso exista uma pergunta, deve ser respondida como comentários no arquivo ou em uma nova célula de texto.\n",
    " 1. Digitar seu nome e DRE abaixo.\n",
    " 1. Ao finalizarem a lista, renomeie ou salve uma cópia do arquivo no formato NomeSobrenome_ListaX.ipynb\n",
    " 1. Enviar via Dropbox até 25/06/2025 - https://www.dropbox.com/request/Duz3Wq2nsdIYQVp7PVvH"
   ]
  },
  {
   "cell_type": "markdown",
   "metadata": {
    "id": "7YU96rXl9oe4"
   },
   "source": [
    "`Nome: Diego Vasconcelos Schardosim de Matos`\n",
    "\n",
    "`DRE: 120098723`"
   ]
  },
  {
   "cell_type": "markdown",
   "metadata": {
    "id": "h1U4asIA-Mz1"
   },
   "source": [
    "### 0) Instruções\n",
    "\n",
    "Para esta lista, vamos fazer algo um pouco diferente. Vocês estão livres para escolher um dataset simples e fazer um treinamento de rede neural, conforme visto nas aulas do dia 22 e 29 de maio. No mínimo uma tarefa de classificação binária.\n",
    "\n",
    "Dica: Cats vs Dogs do Kaggle ou similar"
   ]
  },
  {
   "cell_type": "code",
   "execution_count": null,
   "metadata": {
    "id": "23fTNgnBD7q2"
   },
   "outputs": [],
   "source": []
  }
 ],
 "metadata": {
  "colab": {
   "provenance": [
    {
     "file_id": "16reiFPMDtAKRyJ30p209SkUSpka-eK2Y",
     "timestamp": 1747945373297
    },
    {
     "file_id": "1wfPqklNc8u8aJEULZDGz0fKPn3GpbUOp",
     "timestamp": 1632850060270
    },
    {
     "file_id": "1yXoltJtzQHW_mE9Btk4YFUUMbTqWYINw",
     "timestamp": 1630671473491
    },
    {
     "file_id": "1_OCeNCKk4DFBtxM64fwrU1Qjvr6oMYJb",
     "timestamp": 1630659652286
    }
   ]
  },
  "kernelspec": {
   "display_name": "Python 3",
   "language": "python",
   "name": "python3"
  },
  "language_info": {
   "codemirror_mode": {
    "name": "ipython",
    "version": 3
   },
   "file_extension": ".py",
   "mimetype": "text/x-python",
   "name": "python",
   "nbconvert_exporter": "python",
   "pygments_lexer": "ipython3",
   "version": "3.6.10"
  }
 },
 "nbformat": 4,
 "nbformat_minor": 0
}
